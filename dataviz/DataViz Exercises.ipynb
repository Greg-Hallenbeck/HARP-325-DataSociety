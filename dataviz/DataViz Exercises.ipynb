{
 "cells": [
  {
   "cell_type": "markdown",
   "metadata": {},
   "source": [
    "# Data Visualization Exercises\n",
    "\n",
    "In this section, we'll be working through two datasets. For the first, the notebook will guide you step-by-step in making some illuminating visualizations and discussing the results. For the second, you will receive only loose guidance and will be asked to find interesting results on your own.\n",
    "\n",
    "___\n",
    "\n",
    "## Exercise 1. Redlining\n",
    "\n",
    "Back during the New Deal of the 1930s, there was a housing shortage, and the Home-Owner's Loan Corporation (HOLC) was formed by the U.S. government to make housing more attainable by working-class and middle-class (but not poor) families. As part of that work, they graded neighborhoods on their perceived risk of failure to repay a loan, from \"A\", the best grade colored green on the maps to \"D\", deemed \"hazardous\" and [colored red](https://projects.fivethirtyeight.com/redlining/images/00-cleveland-scan.jpg?v=9dfaacc7), and thus called \"redlining.\" Mitigating loan risk is not bad in and of itself, but the HOLC's policies were explicitly racist: they gave guidance that \"incompatible racial groups should not be permitted to live in the same communities\" and were built on the belief that \"the presence of any population of Black residents was a sign of impending property value decline.\" (Jackson 2021). Loans were systematically denied to Black families, especially if they were attempting to buy homes in white neighborhoods. Later, private banks used the maps produced by the HOLC and perpetuated these practices.\n",
    "\n",
    "While redlining is now illegal—and has been for over 50 years—we can still see patterns of segregation enacted and reinforced by the HOLC in the 1930s. In this exercise, you'll be exploring the connections between the original HOLC grades and racial data from the 2020 census of those metropolitan areas.\n",
    "\n",
    "##### References:\n",
    "* This dataset was used in the FiveThirtyEight article [\"The Lasting Legacy of Redlining\"](https://projects.fivethirtyeight.com/redlining/) by Ryan Best and Elena Mejía.\n",
    "* The data is a processed version of that collected by the [Mapping Inequality](https://dsl.richmond.edu/panorama/redlining/) project.\n",
    "* The NPR article [\"A 'Forgotten History' of how the U.S. Government Segregated America\"](https://www.npr.org/2017/05/03/526655831/a-forgotten-history-of-how-the-u-s-government-segregated-america) by Terry Gross.\n",
    "* The New York Times article [\"What is Redlining\"](https://www.nytimes.com/2021/08/17/realestate/what-is-redlining.html) by Candace Jackson\n",
    "* An article on a [settlement related to recent redlining practices](https://www.washingtonpost.com/business/2022/07/27/berkshire-hathaway-trident-redlining/) by Hamza Shaban in the Washington Post.\n",
    "\n",
    "### Load in Libraries\n",
    "\n",
    "Load in the ggplot2 library."
   ]
  },
  {
   "cell_type": "code",
   "execution_count": null,
   "metadata": {},
   "outputs": [],
   "source": []
  },
  {
   "cell_type": "markdown",
   "metadata": {},
   "source": [
    "### Load in Dataset\n",
    "\n",
    "* Read the [description of the dataset](https://github.com/fivethirtyeight/data/tree/master/redlining) on the FiveThirtyEight github. Skim the variable descriptions: there are a *lot* of columns in this data, and they're all quite similar.\n",
    "* The url for the data is at https://raw.githubusercontent.com/fivethirtyeight/data/master/redlining/metro-grades.csv\n",
    "* Read it into a variable called *metro*, short for metropolitan area"
   ]
  },
  {
   "cell_type": "code",
   "execution_count": null,
   "metadata": {},
   "outputs": [],
   "source": []
  },
  {
   "cell_type": "markdown",
   "metadata": {},
   "source": [
    "### Inspect the Data\n",
    "\n",
    "* Look at the first few rows of the dataset.\n",
    "* How many columns are there?\n",
    "* Look at the first five columns. What data type are they?"
   ]
  },
  {
   "cell_type": "code",
   "execution_count": null,
   "metadata": {},
   "outputs": [],
   "source": []
  },
  {
   "cell_type": "markdown",
   "metadata": {},
   "source": [
    "___\n",
    "\n",
    "### Scatterplots\n",
    "\n",
    "#### White Percentage in and Around the Metro. Area\n",
    "* Plot what % a metropolitan area is white on the x axis, and % the surrounding area is white on the y axis. \n",
    "* Add a descriptive x and y label to the plot\n",
    "* Describe any trends that you see.\n",
    "* Does this trend make sense?"
   ]
  },
  {
   "cell_type": "code",
   "execution_count": null,
   "metadata": {},
   "outputs": [],
   "source": []
  },
  {
   "cell_type": "markdown",
   "metadata": {},
   "source": [
    "* Modify the plot so that the Home-Owner's Loan Corporation grades are shown in different colors.\n",
    "* Describe any trends you see."
   ]
  },
  {
   "cell_type": "code",
   "execution_count": null,
   "metadata": {},
   "outputs": [],
   "source": []
  },
  {
   "cell_type": "markdown",
   "metadata": {},
   "source": [
    "* Force the x and y limits of the plot to be 0-100 (why is that a good choice?). The first Google result for \"x limits of plot ggplot2\" was [documentation for the tidyverse](https://ggplot2.tidyverse.org/reference/lims.html). I think the examples are readable enough to get what you need, but ask for help if not.\n",
    "* In addition, add a reference line showing where the percentage of white residents in the area is equal to the surrounding area (why is this useful?). This can be done by adding `geom_abline(intercept=0,slope=1, linetype=2)` to your plot."
   ]
  },
  {
   "cell_type": "code",
   "execution_count": null,
   "metadata": {},
   "outputs": [],
   "source": []
  },
  {
   "cell_type": "markdown",
   "metadata": {},
   "source": [
    "* Add a facet wrap with two rows to the previous plot.\n",
    "* Does this make it easier or harder to make inferences about the data? Why?\n",
    "* Describe any trends you see."
   ]
  },
  {
   "cell_type": "code",
   "execution_count": null,
   "metadata": {},
   "outputs": [],
   "source": []
  },
  {
   "cell_type": "markdown",
   "metadata": {},
   "source": [
    "Instead of using facets and colors, try adding a geom_smooth based on the holc_grade to your earlier plot.\n",
    "\n",
    "* Do you see any new trends? If so, describe them.\n",
    "* Which plot or plots do you think is the best illustration of the effects you're seeing?"
   ]
  },
  {
   "cell_type": "code",
   "execution_count": null,
   "metadata": {},
   "outputs": [],
   "source": []
  },
  {
   "cell_type": "markdown",
   "metadata": {},
   "source": [
    "#### White vs. Black Percentage in Metro. Area\n",
    "* Make a new plot, with percent white residents on the x axis and percent black residents on the y axis.\n",
    "* What trend do you see? I would argue that this trend is not very interesting. Why? (Hint: what do percentages need to add up to?)"
   ]
  },
  {
   "cell_type": "code",
   "execution_count": null,
   "metadata": {},
   "outputs": [],
   "source": []
  },
  {
   "cell_type": "markdown",
   "metadata": {},
   "source": [
    "* Modify the above plot by adding coloring by HOLC grade\n",
    "* Also add another line showing 100% population level with `geom_abline(intercept=100,slope=-1, linetype=2)`\n",
    "* Why is there a gap between the line and the data?"
   ]
  },
  {
   "cell_type": "code",
   "execution_count": null,
   "metadata": {},
   "outputs": [],
   "source": []
  },
  {
   "cell_type": "markdown",
   "metadata": {},
   "source": [
    "* Try using faceting, a `geom_smooth()`, adding a `shape=` or `size=` to your aesthetic for the above plot.\n",
    "* What's the most interesting result you can find?"
   ]
  },
  {
   "cell_type": "code",
   "execution_count": null,
   "metadata": {},
   "outputs": [],
   "source": []
  },
  {
   "cell_type": "markdown",
   "metadata": {},
   "source": [
    "#### More ggplot for Scatterplots\n",
    "\n",
    "Try out the following features (or look them up) in ggplot. What do they do?\n",
    "* Include an `alpha=0.1` to your `geom_point()` function arguments. It can be added to the aesthetic with a numeric variable, as well.\n",
    "* Add `theme(aspect.ratio=1)` to a plot. If it's unclear what's happening, change it to `aspect.ratio=0.25`\n",
    "* What happens if you add `se=FALSE` to your `geom_smooth()`?"
   ]
  },
  {
   "cell_type": "code",
   "execution_count": null,
   "metadata": {},
   "outputs": [],
   "source": []
  },
  {
   "cell_type": "markdown",
   "metadata": {},
   "source": [
    "#### Additional Scatterplots\n",
    "\n",
    "Make at least two more scatterplots using the data. For each:\n",
    "* Make sure you've got good axis limits and labels.\n",
    "* Experiment with different options like faceting, shape, colors.\n",
    "* Find something worth commenting on."
   ]
  },
  {
   "cell_type": "code",
   "execution_count": null,
   "metadata": {},
   "outputs": [],
   "source": []
  },
  {
   "cell_type": "markdown",
   "metadata": {},
   "source": [
    "___\n",
    "\n",
    "### Histograms\n",
    "\n",
    "Histograms are useful for visualizing the spread of numeric data.\n",
    "\n",
    "* Make a histogram showing what percentage of the population is black.\n",
    "* Add axis labels, set the limits to 0 to 100.\n",
    "* Set the binwidth to 5\n",
    "* Comment on what the graph is telling you."
   ]
  },
  {
   "cell_type": "code",
   "execution_count": null,
   "metadata": {},
   "outputs": [],
   "source": []
  },
  {
   "cell_type": "markdown",
   "metadata": {},
   "source": [
    "* Now add a fill color with `fill=holc_grade` to the aesthetic in the `geom_hist()`.\n",
    "* You should see a trend, although it may not be clear. What is it?\n",
    "* If you use a facet instead, does it improve the plot?"
   ]
  },
  {
   "cell_type": "code",
   "execution_count": null,
   "metadata": {},
   "outputs": [],
   "source": []
  },
  {
   "cell_type": "markdown",
   "metadata": {},
   "source": [
    "* Instead of faceting, we'll use something different: add `position=\"fill\"` to the `geom_histogram()` arguments.\n",
    "* What does \"fill\" position do?\n",
    "* Interpret the trend that you see. Be specific!"
   ]
  },
  {
   "cell_type": "code",
   "execution_count": null,
   "metadata": {},
   "outputs": [],
   "source": []
  },
  {
   "cell_type": "markdown",
   "metadata": {},
   "source": [
    "* Repeat the previous plot, but instead of using `pct_black`, make three more plots, one where you are looking at the percentage that is Hispanic, then Asian, then \"Other.\"\n",
    "* Unfortunately you can't use faceting to do this because of how the data are organized: you'd need a single column for the data and a facet column stating something like \"this is the data for race X\". This is something we'll return to during the next section of the course, on data manipulation.\n",
    "* Do you see any trends in the Hispanic, Asian, or \"Other\" histograms? Why or why not?"
   ]
  },
  {
   "cell_type": "code",
   "execution_count": null,
   "metadata": {},
   "outputs": [],
   "source": []
  },
  {
   "cell_type": "markdown",
   "metadata": {},
   "source": [
    "#### Additional Histogram\n",
    "Make one more histogram from the dataset.\n",
    "* Make sure you've got good axis limits and labels.\n",
    "* Experiment with different options like faceting, shape, colors, position.\n",
    "* Find something worth commenting on."
   ]
  },
  {
   "cell_type": "code",
   "execution_count": null,
   "metadata": {},
   "outputs": [],
   "source": []
  },
  {
   "cell_type": "markdown",
   "metadata": {},
   "source": [
    "___\n",
    "### Bar and Column Charts\n",
    "\n",
    "Bar charts are good for examining how categorical data are distributed. In this case, we've got one categorical variable: the HOLC grade. \n",
    "\n",
    "* Start by making a bar chart showing how many regions of each grade there are.\n",
    "* If your plot is completely uninformative, you've done it correctly! What's happening?\n",
    "* If you need a hint, take a look at the raw data itself."
   ]
  },
  {
   "cell_type": "code",
   "execution_count": null,
   "metadata": {},
   "outputs": [],
   "source": []
  },
  {
   "cell_type": "markdown",
   "metadata": {},
   "source": [
    "So instead, we're going to switch gears and use a different statistic, rather than simply counts. By default, the `geom_col()` geometry will add together your y aesthetic, and then group them by whatever your x aesthetic is. So:\n",
    "* Use `geom_col()` instead of `geom_bar()`\n",
    "* Add a `y=black_pop` to the aesthetic.\n",
    "* This will show you how many black people live in the historic HOLC grades. What is the most common grade for black people?"
   ]
  },
  {
   "cell_type": "code",
   "execution_count": null,
   "metadata": {},
   "outputs": [],
   "source": []
  },
  {
   "cell_type": "markdown",
   "metadata": {},
   "source": [
    "* Modify your previous plot so that you are looking at the white population instead of black.\n",
    "* What do you see?\n",
    "* What are these two plots telling us?"
   ]
  },
  {
   "cell_type": "code",
   "execution_count": null,
   "metadata": {},
   "outputs": [],
   "source": []
  },
  {
   "cell_type": "markdown",
   "metadata": {},
   "source": [
    "___\n",
    "## Exercise 2. The Bechdel Test\n",
    "\n",
    "The [\"Bechdel Test\"](https://dykestowatchoutfor.com/wp-content/uploads/2014/05/The-Rule-cleaned-up.jpg) is a movie rule popularized by Alison Bechdel$^1$ in her comic Dykes to Watch Out For. In the strip, a character indicates that she will only watch a movie if (1) it has at least two women in it, who (2) talk to each other, (3) about something besides a man.\n",
    "\n",
    "This is an *extremely* low bar for representation in films. Passing it is not to be taken as some indication that a film is feminist, however you might define it. Instead, the aggregate of Hollywood output is what's interesting: the fact that many films fail it is an indication of how narrowly focused both the characters in their films on the viewpoints of men (particularly white, heterosexual, cisgender men).\n",
    "\n",
    "In this exercise, you'll be exploring a dataset consisting of movies over a 40+ year period that includes their budgets, box office numbers, and whether they pass (or how they fail) the Bechdel test.\n",
    "\n",
    "##### References:\n",
    "* This dataset was used in the FiveThirtyEight article [\"The Dollars-and-Cents Case Against Hollywood's Exclusion of Women\"](https://fivethirtyeight.com/features/the-dollar-and-cents-case-against-hollywoods-exclusion-of-women/) by Walt Hickey.\n",
    "* [\"Why Are Films Failing The Bechdel Test When TV Has Progressed?\"](https://www.vogue.co.uk/arts-and-lifestyle/article/the-bechdel-test) by Radika Seth\n",
    "* Feminist Frequency [video about the Bechdel Test](https://www.youtube.com/watch?v=PH8JuizIXw8) by Anita Sarkeesian\n",
    "* A recent New York Times [article about women in film](https://www.nytimes.com/2019/12/12/movies/female-directors-oscars.html) by Oscar Hunt\n",
    "* A look back on the [#OscarsSoWhite hashtag](https://variety.com/2020/film/news/oscarssowhite-nominations-diversity-april-reign-1203467389/) by creator April Reign in Variety\n",
    "\n",
    "$^1$ It was actually created by her friend Liz Wallace though, as the comic credits."
   ]
  },
  {
   "cell_type": "markdown",
   "metadata": {},
   "source": [
    "### Load and Examine the Data\n",
    "The actual dataset can be found at https://raw.githubusercontent.com/fivethirtyeight/data/master/bechdel/movies.csv"
   ]
  },
  {
   "cell_type": "code",
   "execution_count": null,
   "metadata": {},
   "outputs": [],
   "source": []
  },
  {
   "cell_type": "code",
   "execution_count": null,
   "metadata": {},
   "outputs": [],
   "source": []
  },
  {
   "cell_type": "markdown",
   "metadata": {},
   "source": [
    "### Visualizations\n",
    "Produce at least 6 visualizations, including at least 2 scatterplots and two bar charts or histograms. Make sure you:\n",
    "* Experiment with color, plot shape, alpha levels, facets.\n",
    "* Set better axis limits as necessary, and add axis labels.\n",
    "* Comment on each.\n",
    "* Pick the one you think best illuminates a point, and email it to the instructor before class."
   ]
  },
  {
   "cell_type": "markdown",
   "metadata": {},
   "source": [
    "#### Suggestion Visualizations:\n",
    "\n",
    "* How are movie budgets changing over time?\n",
    "* Do movies with higher budgets gross more?\n",
    "* What are typical movie budgets? Earnings?\n",
    "* How many movies pass/fail/other categories the Bechdel test?\n",
    "* How is the percentage of movies that pass/fail the Bechdel test changing over time?\n",
    "* Do movies that pass the Bechdel test have higher budgets, or movies that don't pass the test?"
   ]
  },
  {
   "cell_type": "code",
   "execution_count": null,
   "metadata": {},
   "outputs": [],
   "source": []
  },
  {
   "cell_type": "code",
   "execution_count": null,
   "metadata": {},
   "outputs": [],
   "source": []
  },
  {
   "cell_type": "code",
   "execution_count": null,
   "metadata": {},
   "outputs": [],
   "source": []
  },
  {
   "cell_type": "code",
   "execution_count": null,
   "metadata": {},
   "outputs": [],
   "source": []
  },
  {
   "cell_type": "code",
   "execution_count": null,
   "metadata": {},
   "outputs": [],
   "source": []
  },
  {
   "cell_type": "code",
   "execution_count": null,
   "metadata": {},
   "outputs": [],
   "source": []
  }
 ],
 "metadata": {
  "kernelspec": {
   "display_name": "R 4.0.3",
   "language": "R",
   "name": "ir"
  },
  "language_info": {
   "codemirror_mode": "r",
   "file_extension": ".r",
   "mimetype": "text/x-r-source",
   "name": "R",
   "pygments_lexer": "r",
   "version": "4.0.3"
  }
 },
 "nbformat": 4,
 "nbformat_minor": 4
}
