{
 "cells": [
  {
   "cell_type": "code",
   "execution_count": 1,
   "metadata": {},
   "outputs": [
    {
     "data": {
      "text/html": [
       "'https://raw.githubusercontent.com/tidyverse/ggplot2/main/data-raw/mpg.csv'"
      ],
      "text/latex": [
       "'https://raw.githubusercontent.com/tidyverse/ggplot2/main/data-raw/mpg.csv'"
      ],
      "text/markdown": [
       "'https://raw.githubusercontent.com/tidyverse/ggplot2/main/data-raw/mpg.csv'"
      ],
      "text/plain": [
       "[1] \"https://raw.githubusercontent.com/tidyverse/ggplot2/main/data-raw/mpg.csv\""
      ]
     },
     "metadata": {},
     "output_type": "display_data"
    }
   ],
   "source": [
    "\"https://raw.githubusercontent.com/tidyverse/ggplot2/main/data-raw/mpg.csv\""
   ]
  }
 ],
 "metadata": {
  "kernelspec": {
   "display_name": "R 4.0.3",
   "language": "R",
   "name": "ir"
  },
  "language_info": {
   "codemirror_mode": "r",
   "file_extension": ".r",
   "mimetype": "text/x-r-source",
   "name": "R",
   "pygments_lexer": "r",
   "version": "4.0.3"
  }
 },
 "nbformat": 4,
 "nbformat_minor": 4
}
