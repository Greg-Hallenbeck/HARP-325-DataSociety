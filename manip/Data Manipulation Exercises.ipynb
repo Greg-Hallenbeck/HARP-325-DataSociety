{
 "cells": [
  {
   "cell_type": "markdown",
   "metadata": {},
   "source": [
    "# Data Manipulation Exercises\n",
    "\n",
    "As with last time, in the first problem, you'll be walked through calculations and some visualizations, and in the second, you'll only be given general guidance. Both problems use the redlining and Bechdel test datasets we worked with previously.\n",
    "\n",
    "### Load in Libraries\n",
    "\n",
    "Load in the ggplot2 and dplyr libraries."
   ]
  },
  {
   "cell_type": "code",
   "execution_count": null,
   "metadata": {},
   "outputs": [],
   "source": []
  },
  {
   "cell_type": "markdown",
   "metadata": {},
   "source": [
    "___\n",
    "## Exercise 1. The Bechdel Test\n",
    "\n",
    "### Load and Examine the Data\n",
    "The actual dataset can be found at https://raw.githubusercontent.com/fivethirtyeight/data/master/bechdel/movies.csv"
   ]
  },
  {
   "cell_type": "code",
   "execution_count": null,
   "metadata": {},
   "outputs": [],
   "source": []
  },
  {
   "cell_type": "markdown",
   "metadata": {},
   "source": [
    "___\n",
    "### Simple Beginnings\n",
    "Let's start with a few simple exercises, each of which aren't connected to each other.\n",
    "\n",
    "Does the movie *Ghost*, starring Patrick Swayze pass or fail the Bechdel test? `filter()` on the movie title."
   ]
  },
  {
   "cell_type": "code",
   "execution_count": null,
   "metadata": {},
   "outputs": [],
   "source": []
  },
  {
   "cell_type": "markdown",
   "metadata": {},
   "source": [
    "Rename the `imdb` column `IMDB_ID`."
   ]
  },
  {
   "cell_type": "code",
   "execution_count": null,
   "metadata": {},
   "outputs": [],
   "source": []
  },
  {
   "cell_type": "markdown",
   "metadata": {},
   "source": [
    "What movies in the dataset are from the first year in the dataset? Use `filter()` with `min(year)`. How representative of a sample do you think this dataset is for early years?"
   ]
  },
  {
   "cell_type": "code",
   "execution_count": null,
   "metadata": {},
   "outputs": [],
   "source": []
  },
  {
   "cell_type": "markdown",
   "metadata": {},
   "source": [
    "Calculate the overall `mean()` budgets in nominal dollars and real dollars adjusted for inflation (the _2013. column) for films using `summarize()`. In your calculation, divide by 1e6 (or 1000000) so that we can rea the result in millions of dollars."
   ]
  },
  {
   "cell_type": "code",
   "execution_count": null,
   "metadata": {},
   "outputs": [],
   "source": []
  },
  {
   "cell_type": "markdown",
   "metadata": {},
   "source": [
    "How many movies in the dataset have each of the possible outcomes for the Bechdel test? Use `group_by()` and `summarize()` with `n()`."
   ]
  },
  {
   "cell_type": "code",
   "execution_count": null,
   "metadata": {},
   "outputs": [],
   "source": []
  },
  {
   "cell_type": "markdown",
   "metadata": {},
   "source": [
    "___\n",
    "### Budgets by Pass/Fail\n",
    "\n",
    "How do the budgets of movies compare between movies that pass and fail the Bechdel test? To do this, we'll use `group_by()` to group the data by the `clean_test` column, then use `summarize()` to calculate the median budget (make sure to use the inflation-adjusted `budget_2013.` column).\n",
    "\n"
   ]
  },
  {
   "cell_type": "code",
   "execution_count": null,
   "metadata": {},
   "outputs": [],
   "source": []
  },
  {
   "cell_type": "markdown",
   "metadata": {},
   "source": [
    "It'll be a bit easier to make sense of if you also use `arrange` to view this in increasing budget order. What trends do you notice?"
   ]
  },
  {
   "cell_type": "markdown",
   "metadata": {},
   "source": [
    "___\n",
    "### Percentage Pass and Fail\n",
    "\n",
    "Let's start with a simple question: what percentage of movies pass and fail the Bechdel test? To do this, we'll use `group_by()` the `binary` variable, and then use `summarize()` with the `n()` function to count how many of each there are."
   ]
  },
  {
   "cell_type": "code",
   "execution_count": null,
   "metadata": {},
   "outputs": [],
   "source": []
  },
  {
   "cell_type": "markdown",
   "metadata": {},
   "source": [
    "To get the percentage, we need to divide these raw counts by the total, then multiply by 100. You can use `mutate()` for this, using the `sum()` function inside to represent the total counts."
   ]
  },
  {
   "cell_type": "code",
   "execution_count": null,
   "metadata": {},
   "outputs": [],
   "source": []
  },
  {
   "cell_type": "markdown",
   "metadata": {},
   "source": [
    "___\n",
    "### Pass/Fail by Decade\n",
    "\n",
    "Alternatively, let's look at the percentage that pass or fail grouped by year. A single year is likely to be too few movies, but per decade might work.\n",
    "\n",
    "I honestly have no idea what the `decade.code` in the dataframe is, so we'll calculate our own. To make a decade, we can remove the last digit by calculating `floor(year/10)*10`. Do all of this with a `mutate()` command:"
   ]
  },
  {
   "cell_type": "code",
   "execution_count": null,
   "metadata": {},
   "outputs": [],
   "source": []
  },
  {
   "cell_type": "markdown",
   "metadata": {},
   "source": [
    "Now that you have a decade column, group by both `decade` and `binary`, and get the counts for each decade. Save the result in a variable called `bydecade`."
   ]
  },
  {
   "cell_type": "code",
   "execution_count": null,
   "metadata": {},
   "outputs": [],
   "source": []
  },
  {
   "cell_type": "markdown",
   "metadata": {},
   "source": [
    "From here, we'll have to calculate the percentage pass/fail again. It's not quite so easy to do so now that there is grouping, but we can. First, `group_by()` the `decade` variable. Then, `summarize()` taking a `sum()` of all of the `count`s. This gives you the total count by decade...which you can then `inner_join()` back to the `bydecade` variable. Store the result as `bydecadetotal`"
   ]
  },
  {
   "cell_type": "code",
   "execution_count": null,
   "metadata": {},
   "outputs": [],
   "source": []
  },
  {
   "cell_type": "markdown",
   "metadata": {},
   "source": [
    "And now, finally, you can calculate a `pct` column, the percentage of \"PASS\" or \"FAIL\" as the ratio of the count to the total, using `mutate()`. `filter()` the result so you only have \"PASS\" results, and save this in a variable called `passbydecade`."
   ]
  },
  {
   "cell_type": "code",
   "execution_count": null,
   "metadata": {},
   "outputs": [],
   "source": []
  },
  {
   "cell_type": "markdown",
   "metadata": {},
   "source": [
    "Use ggplot with a `geom_bar()` to visualize how the percentage of movies that pass the Bechdel test changes by decade. When you want to specify both an x and y aesthetic, use `stat=\"identity\"` as an argument to the geometry function itself (not the aesthetic). Comment on any trends you see."
   ]
  },
  {
   "cell_type": "code",
   "execution_count": null,
   "metadata": {},
   "outputs": [],
   "source": []
  },
  {
   "cell_type": "markdown",
   "metadata": {},
   "source": [
    "___\n",
    "### Return on Investment\n",
    "As a starting question, I'd like to re-do some of the analysis done by [this FiveThirtyEight article](https://fivethirtyeight.com/features/the-dollar-and-cents-case-against-hollywoods-exclusion-of-women/): do movies which pass the Bechdel test have a higher return on investment than those that don't? We'll take a couple of steps to get there.\n",
    "\n",
    "Unfortunately, if you take a peek at the result of `head(bechdel)` the budget columns are characters, not numeric! That's because some of the entries don't have a listed budget or box office take, instead being listed as \"#N/A\". So, let's remove these.\n",
    "\n",
    "First, use `select()` to only keep the `year`, `title`, `clean_test`, `budget_2013.`, `intgross_2013.`, and `domgross_2013.` columns. Save the result in a variable caled `profits`."
   ]
  },
  {
   "cell_type": "code",
   "execution_count": null,
   "metadata": {},
   "outputs": [],
   "source": []
  },
  {
   "cell_type": "markdown",
   "metadata": {},
   "source": [
    "Now, use `filter()` to remove any rows with a budget or domestic gross of \"#N/A\". Store the result back in the variable `profits`. Additionally, use `filter()` to keep movies released in or after the year 1990, since that's what 538 did. Save the result back in `profits`."
   ]
  },
  {
   "cell_type": "code",
   "execution_count": null,
   "metadata": {},
   "outputs": [],
   "source": []
  },
  {
   "cell_type": "markdown",
   "metadata": {},
   "source": [
    "Because typing the `_2013.` at the end of every name is a pain, let's use `rename()` to remove that part so they just have the names `budget`, and so on. Save it in `profits`.\n"
   ]
  },
  {
   "cell_type": "code",
   "execution_count": null,
   "metadata": {},
   "outputs": [],
   "source": []
  },
  {
   "cell_type": "markdown",
   "metadata": {},
   "source": [
    "Now, use mutate with the `as.numeric()` function to convert `budget`, `intgross`, and `domgross` to columns which are integers, instead of characters. Save in `profits`."
   ]
  },
  {
   "cell_type": "code",
   "execution_count": null,
   "metadata": {},
   "outputs": [],
   "source": []
  },
  {
   "cell_type": "markdown",
   "metadata": {},
   "source": [
    "Finally, let's calculate the domestic return on investment, or `roi`, which is the domestic gross divided by the budget of the film using `mutate`, and make some plots."
   ]
  },
  {
   "cell_type": "code",
   "execution_count": null,
   "metadata": {},
   "outputs": [],
   "source": []
  },
  {
   "cell_type": "markdown",
   "metadata": {},
   "source": [
    "Now we're ready to actually summarize the data and get the results we want!\n",
    "Use `group_by()` and `summarize()` to calculate the `median()` return on investment for each different test result. You can also `arrange()` by the `roi` to see them in order a little more clearly. What trends do you see?"
   ]
  },
  {
   "cell_type": "code",
   "execution_count": null,
   "metadata": {},
   "outputs": [],
   "source": []
  },
  {
   "cell_type": "markdown",
   "metadata": {},
   "source": [
    "Use ggplot with `geom_bar()` and `stat=\"identity\"` to visualize your calculation."
   ]
  },
  {
   "cell_type": "code",
   "execution_count": null,
   "metadata": {},
   "outputs": [],
   "source": []
  },
  {
   "cell_type": "markdown",
   "metadata": {},
   "source": [
    "Repeat the previous calculation, but use the international gross instead of the domestic. How do the trends compare?\n",
    "\n",
    "*Note: the `intgross` variable is the* total *domestic plus international gross. You'll have to subtract off the domestic gross to get international only.*"
   ]
  },
  {
   "cell_type": "code",
   "execution_count": null,
   "metadata": {},
   "outputs": [],
   "source": []
  },
  {
   "cell_type": "markdown",
   "metadata": {},
   "source": [
    "Why did 538 use the median instead of the mean as the statistic of choice here? Make a plot using `geom_histogram()`. What do you know about median and mean?"
   ]
  },
  {
   "cell_type": "code",
   "execution_count": null,
   "metadata": {},
   "outputs": [],
   "source": []
  },
  {
   "cell_type": "markdown",
   "metadata": {},
   "source": [
    "## Exercise 2. Redlining"
   ]
  },
  {
   "cell_type": "markdown",
   "metadata": {},
   "source": [
    "### Load in Dataset\n",
    "\n",
    "* Read the [description of the dataset](https://github.com/fivethirtyeight/data/tree/master/redlining) on the FiveThirtyEight github. Skim the variable descriptions: there are a *lot* of columns in this data, and they're all quite similar.\n",
    "* The url for the data is at https://raw.githubusercontent.com/fivethirtyeight/data/master/redlining/metro-grades.csv\n",
    "* Read it into a variable called *metro*, short for metropolitan area"
   ]
  },
  {
   "cell_type": "code",
   "execution_count": null,
   "metadata": {},
   "outputs": [],
   "source": []
  },
  {
   "cell_type": "markdown",
   "metadata": {},
   "source": [
    "___\n",
    "### Binghamton\n",
    "\n",
    "Create a bar plot visualizing, for each of the HOLC grades, what percentage of the population is white in Binghamton. You can find our city listed as \"Binghamton, NY\"."
   ]
  },
  {
   "cell_type": "code",
   "execution_count": null,
   "metadata": {},
   "outputs": [],
   "source": []
  },
  {
   "cell_type": "markdown",
   "metadata": {},
   "source": [
    "Let's make the corresponding graphic for New York City (list as \"New York-Newark-Jersey City, NY-NJ-PA\"). If you're from the U.S. but not from Binghamton, explore the data and see if you can find another city you've lived in or that is meaningful to you. How does that city and Binghamton compare?"
   ]
  },
  {
   "cell_type": "code",
   "execution_count": null,
   "metadata": {},
   "outputs": [],
   "source": []
  },
  {
   "cell_type": "markdown",
   "metadata": {},
   "source": [
    "___\n",
    "### Averages"
   ]
  },
  {
   "cell_type": "markdown",
   "metadata": {},
   "source": [
    "For each HOLC grade, what is the average percentage of residents that are white? Black? Hispanic? Asian?"
   ]
  },
  {
   "cell_type": "code",
   "execution_count": null,
   "metadata": {},
   "outputs": [],
   "source": []
  },
  {
   "cell_type": "markdown",
   "metadata": {},
   "source": [
    "___\n",
    "### Recalculating\n",
    "\n",
    "This dataset had a lot of calculations performed for us, but they're not complex ones. In this problem, we're going to cut off most of the columns in the dataset, and then re-create them.\n",
    "\n",
    "Remove all of the columns except `metro_area`, `holc_grade`, and the five `X_pop` columns. Afterwards, use *dplyr* functions to calculate the total population, and then the percentage of the population which is white, Black, Hispanic, Asian, and listed as some other race.\n"
   ]
  },
  {
   "cell_type": "code",
   "execution_count": null,
   "metadata": {},
   "outputs": [],
   "source": []
  },
  {
   "cell_type": "markdown",
   "metadata": {},
   "source": [
    "Compare your results with the original dataframe."
   ]
  },
  {
   "cell_type": "markdown",
   "metadata": {},
   "source": [
    "___\n",
    "### City vs. Surrounding Areas\n",
    "In this part, we're going to examine the idea of \"white flight\" in the United States starting in the 50s and 60s, where white families left the cities for the suburbs. Part of this was driven by the availability of mortgage loans to whites (and is thus tied to redlining) as well as improved infrastructure spending by the federal government (which made it easier for people with cars to commute).\n",
    "\n",
    "Calculate the percentage of people in each *metropolitan area* who are white, Black, &c.. This will require you to do a length re-calculation, starting with summing over all of the different HOLC grades; you can't simply average the percentages. From there, you now have the percentage of people in the city and in the surrounding area who are white, Black, and so on. Calculate the ratio of these numbers: if the ratio is 1, then the percentage of people in the city who are white is the same as outside the city. If it's greater than 1, then the white population in the cityis higher (as a percentage) than outside, while the reverse is true if it's less than 1.\n",
    "\n",
    "Produce histograms of these ratios for each racial group in the dataset, and use `geom_vline()` to put a vertical line exactly at a value of 1.\n",
    "\n",
    "Are cities usually whiter or less white than the surrounding areas? Blacker or less black? More or less Asian and Hispanic?"
   ]
  },
  {
   "cell_type": "code",
   "execution_count": null,
   "metadata": {},
   "outputs": [],
   "source": []
  }
 ],
 "metadata": {
  "kernelspec": {
   "display_name": "R 4.0.3",
   "language": "R",
   "name": "ir"
  },
  "language_info": {
   "codemirror_mode": "r",
   "file_extension": ".r",
   "mimetype": "text/x-r-source",
   "name": "R",
   "pygments_lexer": "r",
   "version": "4.0.3"
  }
 },
 "nbformat": 4,
 "nbformat_minor": 4
}
