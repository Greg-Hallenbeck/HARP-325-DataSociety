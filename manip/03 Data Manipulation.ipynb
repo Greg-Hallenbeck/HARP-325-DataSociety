{
 "cells": [
  {
   "cell_type": "markdown",
   "metadata": {},
   "source": [
    "# Data Visualization\n",
    "\n",
    "## 0. Loading Libraries\n",
    "It's a good practice to keep your libraries at the top of your notebook, so that you (1) know which libraries you used, and (2) can load them in neatly whenever you restart your notebook. All the future notebooks will load all necessary libraries right at the top.\n",
    "\n",
    "If you get an error stating `there is no package called ‘dplyr’`, you'll need to install it using `install.packages()`. This is your last reminder!"
   ]
  },
  {
   "cell_type": "code",
   "execution_count": 98,
   "metadata": {},
   "outputs": [],
   "source": [
    "library(dplyr)\n",
    "library(ggplot2)"
   ]
  },
  {
   "cell_type": "markdown",
   "metadata": {},
   "source": [
    "## 1. Introduction\n",
    "\n",
    "This notebook introduces ways of manipulating, cleaning, and searching through datasets using R's *dplyr* library. Much of this will be in service to producing better visuals than we could do with just ggplot alone.\n",
    "\n",
    "## 2. Reading in Data\n",
    "\n",
    "We'll be using the LEGO® [Rebrickable](https://rebrickable.com/) dataset again, but I haven't done any cleanup on the dataset."
   ]
  },
  {
   "cell_type": "code",
   "execution_count": 129,
   "metadata": {},
   "outputs": [],
   "source": [
    "lego <- read.csv(\"https://raw.githubusercontent.com/Greg-Hallenbeck/HARP-325-DataSociety/main/manip/lego.csv\")"
   ]
  },
  {
   "cell_type": "code",
   "execution_count": 130,
   "metadata": {},
   "outputs": [
    {
     "data": {
      "text/html": [
       "<table>\n",
       "<caption>A data.frame: 6 x 5</caption>\n",
       "<thead>\n",
       "\t<tr><th></th><th scope=col>set_num</th><th scope=col>name</th><th scope=col>year</th><th scope=col>num_parts</th><th scope=col>theme</th></tr>\n",
       "\t<tr><th></th><th scope=col>&lt;chr&gt;</th><th scope=col>&lt;chr&gt;</th><th scope=col>&lt;int&gt;</th><th scope=col>&lt;int&gt;</th><th scope=col>&lt;chr&gt;</th></tr>\n",
       "</thead>\n",
       "<tbody>\n",
       "\t<tr><th scope=row>1</th><td>00-1  </td><td>Weetabix Castle           </td><td>1970</td><td>471</td><td>Legoland    </td></tr>\n",
       "\t<tr><th scope=row>2</th><td>0011-2</td><td>Town Mini-Figures         </td><td>1978</td><td> 12</td><td>Classic Town</td></tr>\n",
       "\t<tr><th scope=row>3</th><td>0011-3</td><td>Castle 2 for 1 Bonus Offer</td><td>1987</td><td>  2</td><td>Castle      </td></tr>\n",
       "\t<tr><th scope=row>4</th><td>0012-1</td><td>Space Mini-Figures        </td><td>1979</td><td> 12</td><td>Space       </td></tr>\n",
       "\t<tr><th scope=row>5</th><td>0013-1</td><td>Space Mini-Figures        </td><td>1979</td><td> 12</td><td>Space       </td></tr>\n",
       "\t<tr><th scope=row>6</th><td>0014-1</td><td>Space Mini-Figures        </td><td>1979</td><td> 12</td><td>Space       </td></tr>\n",
       "</tbody>\n",
       "</table>\n"
      ],
      "text/latex": [
       "A data.frame: 6 x 5\n",
       "\\begin{tabular}{r|lllll}\n",
       "  & set\\_num & name & year & num\\_parts & theme\\\\\n",
       "  & <chr> & <chr> & <int> & <int> & <chr>\\\\\n",
       "\\hline\n",
       "\t1 & 00-1   & Weetabix Castle            & 1970 & 471 & Legoland    \\\\\n",
       "\t2 & 0011-2 & Town Mini-Figures          & 1978 &  12 & Classic Town\\\\\n",
       "\t3 & 0011-3 & Castle 2 for 1 Bonus Offer & 1987 &   2 & Castle      \\\\\n",
       "\t4 & 0012-1 & Space Mini-Figures         & 1979 &  12 & Space       \\\\\n",
       "\t5 & 0013-1 & Space Mini-Figures         & 1979 &  12 & Space       \\\\\n",
       "\t6 & 0014-1 & Space Mini-Figures         & 1979 &  12 & Space       \\\\\n",
       "\\end{tabular}\n"
      ],
      "text/markdown": [
       "\n",
       "A data.frame: 6 x 5\n",
       "\n",
       "| <!--/--> | set_num &lt;chr&gt; | name &lt;chr&gt; | year &lt;int&gt; | num_parts &lt;int&gt; | theme &lt;chr&gt; |\n",
       "|---|---|---|---|---|---|\n",
       "| 1 | 00-1   | Weetabix Castle            | 1970 | 471 | Legoland     |\n",
       "| 2 | 0011-2 | Town Mini-Figures          | 1978 |  12 | Classic Town |\n",
       "| 3 | 0011-3 | Castle 2 for 1 Bonus Offer | 1987 |   2 | Castle       |\n",
       "| 4 | 0012-1 | Space Mini-Figures         | 1979 |  12 | Space        |\n",
       "| 5 | 0013-1 | Space Mini-Figures         | 1979 |  12 | Space        |\n",
       "| 6 | 0014-1 | Space Mini-Figures         | 1979 |  12 | Space        |\n",
       "\n"
      ],
      "text/plain": [
       "  set_num name                       year num_parts theme       \n",
       "1 00-1    Weetabix Castle            1970 471       Legoland    \n",
       "2 0011-2  Town Mini-Figures          1978  12       Classic Town\n",
       "3 0011-3  Castle 2 for 1 Bonus Offer 1987   2       Castle      \n",
       "4 0012-1  Space Mini-Figures         1979  12       Space       \n",
       "5 0013-1  Space Mini-Figures         1979  12       Space       \n",
       "6 0014-1  Space Mini-Figures         1979  12       Space       "
      ]
     },
     "metadata": {},
     "output_type": "display_data"
    }
   ],
   "source": [
    "head(lego)"
   ]
  },
  {
   "cell_type": "markdown",
   "metadata": {},
   "source": [
    "The biggest change is that I haven't remove the smaller themes."
   ]
  },
  {
   "cell_type": "markdown",
   "metadata": {},
   "source": [
    "## 3. Basic *dplyr* Functions\n",
    "\n",
    "The standard functions in *dplyr* you'll be using most of the time in dplyr are:\n",
    "\n",
    "1. `select()` for including (or excluding) columns.\n",
    "2. `filter()` for including (or exclusing) rows.\n",
    "3. `rename()` to rename columns.\n",
    "4. `mutate()` to modify the contents of columns\n",
    "5. `summarize()` to calculate basic statistics.\n",
    "6. `groupby()` to group data by some categorical variable.\n",
    "7. `arrange()` to reorder a dataframe."
   ]
  },
  {
   "cell_type": "markdown",
   "metadata": {},
   "source": [
    "### 3.0. *dplyr* Pipe Notation\n",
    "\n",
    "One last thing before we begin. It's standard to envision your work in dplyr as a pipeline process: first you do this, then that, then that, and so on until you get a finished, transformed data product. This is done with the `%>%` pipe operator. For example, if you have a dataframe called `data` and you want to call function `A()` on it, then function `B()`, you can write the following:\n",
    "\n",
    "`data %>% A() %>% B()`\n",
    "\n",
    "or, storing it in a variable called \"`transformed`\":\n",
    "\n",
    "`transformed <- data %>% A() %>% B()`\n",
    "\n",
    "You may be more used to something like this. If not, then just ignore these two lines of code.\n",
    "\n",
    "`temp <- A(data)`\\\n",
    "`transformed <- B(temp)`"
   ]
  },
  {
   "cell_type": "markdown",
   "metadata": {},
   "source": [
    "### 3.1. The `select()` Function\n",
    "\n",
    "[This function](https://dplyr.tidyverse.org/reference/select.html) is used constantly, both to remove unnecessary columns from a dataframe, and to pick a column to calculate some sort of statistic on. You simply pass as arguments the names of the columns you want to keep:"
   ]
  },
  {
   "cell_type": "code",
   "execution_count": 131,
   "metadata": {},
   "outputs": [
    {
     "data": {
      "text/html": [
       "<table>\n",
       "<caption>A data.frame: 6 x 2</caption>\n",
       "<thead>\n",
       "\t<tr><th></th><th scope=col>name</th><th scope=col>year</th></tr>\n",
       "\t<tr><th></th><th scope=col>&lt;chr&gt;</th><th scope=col>&lt;int&gt;</th></tr>\n",
       "</thead>\n",
       "<tbody>\n",
       "\t<tr><th scope=row>1</th><td>Weetabix Castle           </td><td>1970</td></tr>\n",
       "\t<tr><th scope=row>2</th><td>Town Mini-Figures         </td><td>1978</td></tr>\n",
       "\t<tr><th scope=row>3</th><td>Castle 2 for 1 Bonus Offer</td><td>1987</td></tr>\n",
       "\t<tr><th scope=row>4</th><td>Space Mini-Figures        </td><td>1979</td></tr>\n",
       "\t<tr><th scope=row>5</th><td>Space Mini-Figures        </td><td>1979</td></tr>\n",
       "\t<tr><th scope=row>6</th><td>Space Mini-Figures        </td><td>1979</td></tr>\n",
       "</tbody>\n",
       "</table>\n"
      ],
      "text/latex": [
       "A data.frame: 6 x 2\n",
       "\\begin{tabular}{r|ll}\n",
       "  & name & year\\\\\n",
       "  & <chr> & <int>\\\\\n",
       "\\hline\n",
       "\t1 & Weetabix Castle            & 1970\\\\\n",
       "\t2 & Town Mini-Figures          & 1978\\\\\n",
       "\t3 & Castle 2 for 1 Bonus Offer & 1987\\\\\n",
       "\t4 & Space Mini-Figures         & 1979\\\\\n",
       "\t5 & Space Mini-Figures         & 1979\\\\\n",
       "\t6 & Space Mini-Figures         & 1979\\\\\n",
       "\\end{tabular}\n"
      ],
      "text/markdown": [
       "\n",
       "A data.frame: 6 x 2\n",
       "\n",
       "| <!--/--> | name &lt;chr&gt; | year &lt;int&gt; |\n",
       "|---|---|---|\n",
       "| 1 | Weetabix Castle            | 1970 |\n",
       "| 2 | Town Mini-Figures          | 1978 |\n",
       "| 3 | Castle 2 for 1 Bonus Offer | 1987 |\n",
       "| 4 | Space Mini-Figures         | 1979 |\n",
       "| 5 | Space Mini-Figures         | 1979 |\n",
       "| 6 | Space Mini-Figures         | 1979 |\n",
       "\n"
      ],
      "text/plain": [
       "  name                       year\n",
       "1 Weetabix Castle            1970\n",
       "2 Town Mini-Figures          1978\n",
       "3 Castle 2 for 1 Bonus Offer 1987\n",
       "4 Space Mini-Figures         1979\n",
       "5 Space Mini-Figures         1979\n",
       "6 Space Mini-Figures         1979"
      ]
     },
     "metadata": {},
     "output_type": "display_data"
    }
   ],
   "source": [
    "temp <- lego %>% select(name, year)\n",
    "\n",
    "head(temp)"
   ]
  },
  {
   "cell_type": "markdown",
   "metadata": {},
   "source": [
    "It can sometimes be simpler to just remove a column. The set ID in the `lego` dataframe isn't useful to us, so let's just drop it. I'm storing the result back in `lego`, so that column is now gone forever."
   ]
  },
  {
   "cell_type": "code",
   "execution_count": 132,
   "metadata": {},
   "outputs": [
    {
     "data": {
      "text/html": [
       "<table>\n",
       "<caption>A data.frame: 6 x 4</caption>\n",
       "<thead>\n",
       "\t<tr><th></th><th scope=col>name</th><th scope=col>year</th><th scope=col>num_parts</th><th scope=col>theme</th></tr>\n",
       "\t<tr><th></th><th scope=col>&lt;chr&gt;</th><th scope=col>&lt;int&gt;</th><th scope=col>&lt;int&gt;</th><th scope=col>&lt;chr&gt;</th></tr>\n",
       "</thead>\n",
       "<tbody>\n",
       "\t<tr><th scope=row>1</th><td>Weetabix Castle           </td><td>1970</td><td>471</td><td>Legoland    </td></tr>\n",
       "\t<tr><th scope=row>2</th><td>Town Mini-Figures         </td><td>1978</td><td> 12</td><td>Classic Town</td></tr>\n",
       "\t<tr><th scope=row>3</th><td>Castle 2 for 1 Bonus Offer</td><td>1987</td><td>  2</td><td>Castle      </td></tr>\n",
       "\t<tr><th scope=row>4</th><td>Space Mini-Figures        </td><td>1979</td><td> 12</td><td>Space       </td></tr>\n",
       "\t<tr><th scope=row>5</th><td>Space Mini-Figures        </td><td>1979</td><td> 12</td><td>Space       </td></tr>\n",
       "\t<tr><th scope=row>6</th><td>Space Mini-Figures        </td><td>1979</td><td> 12</td><td>Space       </td></tr>\n",
       "</tbody>\n",
       "</table>\n"
      ],
      "text/latex": [
       "A data.frame: 6 x 4\n",
       "\\begin{tabular}{r|llll}\n",
       "  & name & year & num\\_parts & theme\\\\\n",
       "  & <chr> & <int> & <int> & <chr>\\\\\n",
       "\\hline\n",
       "\t1 & Weetabix Castle            & 1970 & 471 & Legoland    \\\\\n",
       "\t2 & Town Mini-Figures          & 1978 &  12 & Classic Town\\\\\n",
       "\t3 & Castle 2 for 1 Bonus Offer & 1987 &   2 & Castle      \\\\\n",
       "\t4 & Space Mini-Figures         & 1979 &  12 & Space       \\\\\n",
       "\t5 & Space Mini-Figures         & 1979 &  12 & Space       \\\\\n",
       "\t6 & Space Mini-Figures         & 1979 &  12 & Space       \\\\\n",
       "\\end{tabular}\n"
      ],
      "text/markdown": [
       "\n",
       "A data.frame: 6 x 4\n",
       "\n",
       "| <!--/--> | name &lt;chr&gt; | year &lt;int&gt; | num_parts &lt;int&gt; | theme &lt;chr&gt; |\n",
       "|---|---|---|---|---|\n",
       "| 1 | Weetabix Castle            | 1970 | 471 | Legoland     |\n",
       "| 2 | Town Mini-Figures          | 1978 |  12 | Classic Town |\n",
       "| 3 | Castle 2 for 1 Bonus Offer | 1987 |   2 | Castle       |\n",
       "| 4 | Space Mini-Figures         | 1979 |  12 | Space        |\n",
       "| 5 | Space Mini-Figures         | 1979 |  12 | Space        |\n",
       "| 6 | Space Mini-Figures         | 1979 |  12 | Space        |\n",
       "\n"
      ],
      "text/plain": [
       "  name                       year num_parts theme       \n",
       "1 Weetabix Castle            1970 471       Legoland    \n",
       "2 Town Mini-Figures          1978  12       Classic Town\n",
       "3 Castle 2 for 1 Bonus Offer 1987   2       Castle      \n",
       "4 Space Mini-Figures         1979  12       Space       \n",
       "5 Space Mini-Figures         1979  12       Space       \n",
       "6 Space Mini-Figures         1979  12       Space       "
      ]
     },
     "metadata": {},
     "output_type": "display_data"
    }
   ],
   "source": [
    "lego <- lego %>% select(-set_num)\n",
    "\n",
    "head(lego)"
   ]
  },
  {
   "cell_type": "markdown",
   "metadata": {},
   "source": [
    "### 3.2. The `filter()` Function\n",
    "\n",
    "[This function](https://dplyr.tidyverse.org/reference/filter.html) uses basic boolean logic to narrow down the rows of interest. Here's an example, where I just want to take a look at the oldest LEGO® sets; they debuted in 1950."
   ]
  },
  {
   "cell_type": "code",
   "execution_count": 133,
   "metadata": {},
   "outputs": [
    {
     "data": {
      "text/html": [
       "<table>\n",
       "<caption>A data.frame: 7 x 4</caption>\n",
       "<thead>\n",
       "\t<tr><th scope=col>name</th><th scope=col>year</th><th scope=col>num_parts</th><th scope=col>theme</th></tr>\n",
       "\t<tr><th scope=col>&lt;chr&gt;</th><th scope=col>&lt;int&gt;</th><th scope=col>&lt;int&gt;</th><th scope=col>&lt;chr&gt;</th></tr>\n",
       "</thead>\n",
       "<tbody>\n",
       "\t<tr><td>Individual 2 x 4 Bricks                                </td><td>1950</td><td>10</td><td>Classic</td></tr>\n",
       "\t<tr><td>Individual 2 x 2 Bricks                                </td><td>1950</td><td> 9</td><td>Classic</td></tr>\n",
       "\t<tr><td>Automatic Binding Bricks Small Brick Set (Lego Mursten)</td><td>1950</td><td>24</td><td>Classic</td></tr>\n",
       "\t<tr><td>Individual 1 x 4 x 2 Window (without glass)            </td><td>1950</td><td> 7</td><td>Classic</td></tr>\n",
       "\t<tr><td>Individual 1 x 2 x 3 Window (without glass)            </td><td>1950</td><td> 7</td><td>Classic</td></tr>\n",
       "\t<tr><td>Individual 1 x 2 x 2 Window (without glass)            </td><td>1950</td><td> 7</td><td>Classic</td></tr>\n",
       "\t<tr><td>Individual 1 x 2 x 4 Door (without glass)              </td><td>1950</td><td> 7</td><td>Classic</td></tr>\n",
       "</tbody>\n",
       "</table>\n"
      ],
      "text/latex": [
       "A data.frame: 7 x 4\n",
       "\\begin{tabular}{llll}\n",
       " name & year & num\\_parts & theme\\\\\n",
       " <chr> & <int> & <int> & <chr>\\\\\n",
       "\\hline\n",
       "\t Individual 2 x 4 Bricks                                 & 1950 & 10 & Classic\\\\\n",
       "\t Individual 2 x 2 Bricks                                 & 1950 &  9 & Classic\\\\\n",
       "\t Automatic Binding Bricks Small Brick Set (Lego Mursten) & 1950 & 24 & Classic\\\\\n",
       "\t Individual 1 x 4 x 2 Window (without glass)             & 1950 &  7 & Classic\\\\\n",
       "\t Individual 1 x 2 x 3 Window (without glass)             & 1950 &  7 & Classic\\\\\n",
       "\t Individual 1 x 2 x 2 Window (without glass)             & 1950 &  7 & Classic\\\\\n",
       "\t Individual 1 x 2 x 4 Door (without glass)               & 1950 &  7 & Classic\\\\\n",
       "\\end{tabular}\n"
      ],
      "text/markdown": [
       "\n",
       "A data.frame: 7 x 4\n",
       "\n",
       "| name &lt;chr&gt; | year &lt;int&gt; | num_parts &lt;int&gt; | theme &lt;chr&gt; |\n",
       "|---|---|---|---|\n",
       "| Individual 2 x 4 Bricks                                 | 1950 | 10 | Classic |\n",
       "| Individual 2 x 2 Bricks                                 | 1950 |  9 | Classic |\n",
       "| Automatic Binding Bricks Small Brick Set (Lego Mursten) | 1950 | 24 | Classic |\n",
       "| Individual 1 x 4 x 2 Window (without glass)             | 1950 |  7 | Classic |\n",
       "| Individual 1 x 2 x 3 Window (without glass)             | 1950 |  7 | Classic |\n",
       "| Individual 1 x 2 x 2 Window (without glass)             | 1950 |  7 | Classic |\n",
       "| Individual 1 x 2 x 4 Door (without glass)               | 1950 |  7 | Classic |\n",
       "\n"
      ],
      "text/plain": [
       "  name                                                    year num_parts\n",
       "1 Individual 2 x 4 Bricks                                 1950 10       \n",
       "2 Individual 2 x 2 Bricks                                 1950  9       \n",
       "3 Automatic Binding Bricks Small Brick Set (Lego Mursten) 1950 24       \n",
       "4 Individual 1 x 4 x 2 Window (without glass)             1950  7       \n",
       "5 Individual 1 x 2 x 3 Window (without glass)             1950  7       \n",
       "6 Individual 1 x 2 x 2 Window (without glass)             1950  7       \n",
       "7 Individual 1 x 2 x 4 Door (without glass)               1950  7       \n",
       "  theme  \n",
       "1 Classic\n",
       "2 Classic\n",
       "3 Classic\n",
       "4 Classic\n",
       "5 Classic\n",
       "6 Classic\n",
       "7 Classic"
      ]
     },
     "metadata": {},
     "output_type": "display_data"
    }
   ],
   "source": [
    "lego %>% filter(year == 1950)"
   ]
  },
  {
   "cell_type": "markdown",
   "metadata": {},
   "source": [
    "To do so, we passed the phrase `year == 1950`, so R checks every row, and only returns the rows where this expression is true (the `==` sign is a *comparator* that means \"is equal to\"). The standard comparators in R include:\n",
    "* `==` equals\n",
    "* `<` less than\n",
    "* `>` greater than\n",
    "* `!=` not equal to\n",
    "* `<=` greater than or equal to\n",
    "* `>=` less than or equal to\n",
    "If you're familiar with boolean logic, you can also use `&` for AND and `|` for OR. Otherwise, you can string together multiple filters if you want multiple things to be true. For example, let's find all of the sets after 2010 that have at least 4000 pieces:"
   ]
  },
  {
   "cell_type": "code",
   "execution_count": 134,
   "metadata": {},
   "outputs": [
    {
     "data": {
      "text/html": [
       "<table>\n",
       "<caption>A data.frame: 6 x 4</caption>\n",
       "<thead>\n",
       "\t<tr><th scope=col>name</th><th scope=col>year</th><th scope=col>num_parts</th><th scope=col>theme</th></tr>\n",
       "\t<tr><th scope=col>&lt;chr&gt;</th><th scope=col>&lt;int&gt;</th><th scope=col>&lt;int&gt;</th><th scope=col>&lt;chr&gt;</th></tr>\n",
       "</thead>\n",
       "<tbody>\n",
       "\t<tr><td>Big Ben                     </td><td>2016</td><td>4166</td><td>Model            </td></tr>\n",
       "\t<tr><td>Assembly Square             </td><td>2017</td><td>4009</td><td>Modular Buildings</td></tr>\n",
       "\t<tr><td>Personalised Mosaic Portrait</td><td>2016</td><td>4501</td><td>Sculptures       </td></tr>\n",
       "\t<tr><td>The Disney Castle           </td><td>2016</td><td>4060</td><td>Disney           </td></tr>\n",
       "\t<tr><td>Death Star                  </td><td>2016</td><td>4023</td><td>Star Wars        </td></tr>\n",
       "\t<tr><td>Firehouse Headquarters      </td><td>2016</td><td>4640</td><td>Other            </td></tr>\n",
       "</tbody>\n",
       "</table>\n"
      ],
      "text/latex": [
       "A data.frame: 6 x 4\n",
       "\\begin{tabular}{llll}\n",
       " name & year & num\\_parts & theme\\\\\n",
       " <chr> & <int> & <int> & <chr>\\\\\n",
       "\\hline\n",
       "\t Big Ben                      & 2016 & 4166 & Model            \\\\\n",
       "\t Assembly Square              & 2017 & 4009 & Modular Buildings\\\\\n",
       "\t Personalised Mosaic Portrait & 2016 & 4501 & Sculptures       \\\\\n",
       "\t The Disney Castle            & 2016 & 4060 & Disney           \\\\\n",
       "\t Death Star                   & 2016 & 4023 & Star Wars        \\\\\n",
       "\t Firehouse Headquarters       & 2016 & 4640 & Other            \\\\\n",
       "\\end{tabular}\n"
      ],
      "text/markdown": [
       "\n",
       "A data.frame: 6 x 4\n",
       "\n",
       "| name &lt;chr&gt; | year &lt;int&gt; | num_parts &lt;int&gt; | theme &lt;chr&gt; |\n",
       "|---|---|---|---|\n",
       "| Big Ben                      | 2016 | 4166 | Model             |\n",
       "| Assembly Square              | 2017 | 4009 | Modular Buildings |\n",
       "| Personalised Mosaic Portrait | 2016 | 4501 | Sculptures        |\n",
       "| The Disney Castle            | 2016 | 4060 | Disney            |\n",
       "| Death Star                   | 2016 | 4023 | Star Wars         |\n",
       "| Firehouse Headquarters       | 2016 | 4640 | Other             |\n",
       "\n"
      ],
      "text/plain": [
       "  name                         year num_parts theme            \n",
       "1 Big Ben                      2016 4166      Model            \n",
       "2 Assembly Square              2017 4009      Modular Buildings\n",
       "3 Personalised Mosaic Portrait 2016 4501      Sculptures       \n",
       "4 The Disney Castle            2016 4060      Disney           \n",
       "5 Death Star                   2016 4023      Star Wars        \n",
       "6 Firehouse Headquarters       2016 4640      Other            "
      ]
     },
     "metadata": {},
     "output_type": "display_data"
    }
   ],
   "source": [
    "lego %>% filter(year > 2010) %>% filter(num_parts >= 4000)"
   ]
  },
  {
   "cell_type": "markdown",
   "metadata": {},
   "source": [
    "### 3.3 The `rename()` Function\n",
    "\n",
    "Datasets often come with pretty terrible names. Let's fix the `num_parts` column in our LEGO® dataset so it's called `pieces` instead. You can rename multiple columns by inputting them as multiple arguments."
   ]
  },
  {
   "cell_type": "code",
   "execution_count": 135,
   "metadata": {},
   "outputs": [
    {
     "data": {
      "text/html": [
       "<table>\n",
       "<caption>A data.frame: 6 x 4</caption>\n",
       "<thead>\n",
       "\t<tr><th></th><th scope=col>name</th><th scope=col>year</th><th scope=col>pieces</th><th scope=col>theme</th></tr>\n",
       "\t<tr><th></th><th scope=col>&lt;chr&gt;</th><th scope=col>&lt;int&gt;</th><th scope=col>&lt;int&gt;</th><th scope=col>&lt;chr&gt;</th></tr>\n",
       "</thead>\n",
       "<tbody>\n",
       "\t<tr><th scope=row>1</th><td>Weetabix Castle           </td><td>1970</td><td>471</td><td>Legoland    </td></tr>\n",
       "\t<tr><th scope=row>2</th><td>Town Mini-Figures         </td><td>1978</td><td> 12</td><td>Classic Town</td></tr>\n",
       "\t<tr><th scope=row>3</th><td>Castle 2 for 1 Bonus Offer</td><td>1987</td><td>  2</td><td>Castle      </td></tr>\n",
       "\t<tr><th scope=row>4</th><td>Space Mini-Figures        </td><td>1979</td><td> 12</td><td>Space       </td></tr>\n",
       "\t<tr><th scope=row>5</th><td>Space Mini-Figures        </td><td>1979</td><td> 12</td><td>Space       </td></tr>\n",
       "\t<tr><th scope=row>6</th><td>Space Mini-Figures        </td><td>1979</td><td> 12</td><td>Space       </td></tr>\n",
       "</tbody>\n",
       "</table>\n"
      ],
      "text/latex": [
       "A data.frame: 6 x 4\n",
       "\\begin{tabular}{r|llll}\n",
       "  & name & year & pieces & theme\\\\\n",
       "  & <chr> & <int> & <int> & <chr>\\\\\n",
       "\\hline\n",
       "\t1 & Weetabix Castle            & 1970 & 471 & Legoland    \\\\\n",
       "\t2 & Town Mini-Figures          & 1978 &  12 & Classic Town\\\\\n",
       "\t3 & Castle 2 for 1 Bonus Offer & 1987 &   2 & Castle      \\\\\n",
       "\t4 & Space Mini-Figures         & 1979 &  12 & Space       \\\\\n",
       "\t5 & Space Mini-Figures         & 1979 &  12 & Space       \\\\\n",
       "\t6 & Space Mini-Figures         & 1979 &  12 & Space       \\\\\n",
       "\\end{tabular}\n"
      ],
      "text/markdown": [
       "\n",
       "A data.frame: 6 x 4\n",
       "\n",
       "| <!--/--> | name &lt;chr&gt; | year &lt;int&gt; | pieces &lt;int&gt; | theme &lt;chr&gt; |\n",
       "|---|---|---|---|---|\n",
       "| 1 | Weetabix Castle            | 1970 | 471 | Legoland     |\n",
       "| 2 | Town Mini-Figures          | 1978 |  12 | Classic Town |\n",
       "| 3 | Castle 2 for 1 Bonus Offer | 1987 |   2 | Castle       |\n",
       "| 4 | Space Mini-Figures         | 1979 |  12 | Space        |\n",
       "| 5 | Space Mini-Figures         | 1979 |  12 | Space        |\n",
       "| 6 | Space Mini-Figures         | 1979 |  12 | Space        |\n",
       "\n"
      ],
      "text/plain": [
       "  name                       year pieces theme       \n",
       "1 Weetabix Castle            1970 471    Legoland    \n",
       "2 Town Mini-Figures          1978  12    Classic Town\n",
       "3 Castle 2 for 1 Bonus Offer 1987   2    Castle      \n",
       "4 Space Mini-Figures         1979  12    Space       \n",
       "5 Space Mini-Figures         1979  12    Space       \n",
       "6 Space Mini-Figures         1979  12    Space       "
      ]
     },
     "metadata": {},
     "output_type": "display_data"
    }
   ],
   "source": [
    "lego <- lego %>% rename(pieces=num_parts)\n",
    "\n",
    "head(lego)"
   ]
  },
  {
   "cell_type": "markdown",
   "metadata": {},
   "source": [
    "### 3.4. The `mutate()` Function\n",
    "This lets us edit and perform calculations on our dataset. For example, if you had a column of revenue, and another of expenses, you might create a new column that was the profits, i.e. revenue - expenses. Or, you might want the ratio of two columns to get a percentage. All you have to do is give the name of the new column along with a formula defining how to calculate it.\n",
    "\n",
    "The LEGO® dataset doesn't have many numeric variables, but here are a few very forced examples:\n",
    "\n",
    "1. The first LEGO® set was released in 1950. Add a column saying what LEGO® year it is, with 1950 = year 1:"
   ]
  },
  {
   "cell_type": "code",
   "execution_count": 136,
   "metadata": {},
   "outputs": [],
   "source": [
    "lego <- lego %>% mutate(yearsafter = year - 1949)"
   ]
  },
  {
   "cell_type": "markdown",
   "metadata": {},
   "source": [
    "2. How many *more* pieces are added to LEGO® sets each year? Let's make a \"pieces per year\" column:"
   ]
  },
  {
   "cell_type": "code",
   "execution_count": 137,
   "metadata": {},
   "outputs": [],
   "source": [
    "lego <- lego %>% mutate(peryear = pieces/yearsafter)"
   ]
  },
  {
   "cell_type": "markdown",
   "metadata": {},
   "source": [
    "### 3.5. The `summarize()` Function\n",
    "\n",
    "[This function](https://dplyr.tidyverse.org/reference/summarise.html#useful-functions) is used for calculating many different statistics about a dataframe, by calling helper statistics functions. Below I'll highlight a few, but you should check the link for more information.\n",
    "\n",
    "First, let's look at the average number of pieces in LEGO® sets. It looks like it's about 162."
   ]
  },
  {
   "cell_type": "code",
   "execution_count": 138,
   "metadata": {},
   "outputs": [
    {
     "data": {
      "text/html": [
       "<table>\n",
       "<caption>A data.frame: 1 x 1</caption>\n",
       "<thead>\n",
       "\t<tr><th scope=col>mean(pieces)</th></tr>\n",
       "\t<tr><th scope=col>&lt;dbl&gt;</th></tr>\n",
       "</thead>\n",
       "<tbody>\n",
       "\t<tr><td>162.2624</td></tr>\n",
       "</tbody>\n",
       "</table>\n"
      ],
      "text/latex": [
       "A data.frame: 1 x 1\n",
       "\\begin{tabular}{l}\n",
       " mean(pieces)\\\\\n",
       " <dbl>\\\\\n",
       "\\hline\n",
       "\t 162.2624\\\\\n",
       "\\end{tabular}\n"
      ],
      "text/markdown": [
       "\n",
       "A data.frame: 1 x 1\n",
       "\n",
       "| mean(pieces) &lt;dbl&gt; |\n",
       "|---|\n",
       "| 162.2624 |\n",
       "\n"
      ],
      "text/plain": [
       "  mean(pieces)\n",
       "1 162.2624    "
      ]
     },
     "metadata": {},
     "output_type": "display_data"
    }
   ],
   "source": [
    "lego %>% summarize(mean(pieces))"
   ]
  },
  {
   "cell_type": "markdown",
   "metadata": {},
   "source": [
    "We can extend the piece statistics a bit. What about the maximum and minimum numbers? Looks like there's an error somewhere in the dataset: you can't have a negative number of pieces."
   ]
  },
  {
   "cell_type": "code",
   "execution_count": 139,
   "metadata": {},
   "outputs": [
    {
     "data": {
      "text/html": [
       "<table>\n",
       "<caption>A data.frame: 1 x 3</caption>\n",
       "<thead>\n",
       "\t<tr><th scope=col>mean(pieces)</th><th scope=col>min(pieces)</th><th scope=col>max(pieces)</th></tr>\n",
       "\t<tr><th scope=col>&lt;dbl&gt;</th><th scope=col>&lt;int&gt;</th><th scope=col>&lt;int&gt;</th></tr>\n",
       "</thead>\n",
       "<tbody>\n",
       "\t<tr><td>162.2624</td><td>-1</td><td>5922</td></tr>\n",
       "</tbody>\n",
       "</table>\n"
      ],
      "text/latex": [
       "A data.frame: 1 x 3\n",
       "\\begin{tabular}{lll}\n",
       " mean(pieces) & min(pieces) & max(pieces)\\\\\n",
       " <dbl> & <int> & <int>\\\\\n",
       "\\hline\n",
       "\t 162.2624 & -1 & 5922\\\\\n",
       "\\end{tabular}\n"
      ],
      "text/markdown": [
       "\n",
       "A data.frame: 1 x 3\n",
       "\n",
       "| mean(pieces) &lt;dbl&gt; | min(pieces) &lt;int&gt; | max(pieces) &lt;int&gt; |\n",
       "|---|---|---|\n",
       "| 162.2624 | -1 | 5922 |\n",
       "\n"
      ],
      "text/plain": [
       "  mean(pieces) min(pieces) max(pieces)\n",
       "1 162.2624     -1          5922       "
      ]
     },
     "metadata": {},
     "output_type": "display_data"
    }
   ],
   "source": [
    "lego %>% summarize(mean(pieces), min(pieces), max(pieces))"
   ]
  },
  {
   "cell_type": "markdown",
   "metadata": {},
   "source": [
    "How many different LEGO® themes are there? There are 614."
   ]
  },
  {
   "cell_type": "code",
   "execution_count": 140,
   "metadata": {},
   "outputs": [
    {
     "data": {
      "text/html": [
       "<table>\n",
       "<caption>A data.frame: 1 x 1</caption>\n",
       "<thead>\n",
       "\t<tr><th scope=col>n_distinct(themes)</th></tr>\n",
       "\t<tr><th scope=col>&lt;int&gt;</th></tr>\n",
       "</thead>\n",
       "<tbody>\n",
       "\t<tr><td>614</td></tr>\n",
       "</tbody>\n",
       "</table>\n"
      ],
      "text/latex": [
       "A data.frame: 1 x 1\n",
       "\\begin{tabular}{l}\n",
       " n\\_distinct(themes)\\\\\n",
       " <int>\\\\\n",
       "\\hline\n",
       "\t 614\\\\\n",
       "\\end{tabular}\n"
      ],
      "text/markdown": [
       "\n",
       "A data.frame: 1 x 1\n",
       "\n",
       "| n_distinct(themes) &lt;int&gt; |\n",
       "|---|\n",
       "| 614 |\n",
       "\n"
      ],
      "text/plain": [
       "  n_distinct(themes)\n",
       "1 614               "
      ]
     },
     "metadata": {},
     "output_type": "display_data"
    }
   ],
   "source": [
    "lego %>% summarize(n_distinct(themes))"
   ]
  },
  {
   "cell_type": "markdown",
   "metadata": {},
   "source": [
    "These helper functions can be used in the `filter()` function as well. When we found which sets came out in 1950, the first year that LEGO® sets were produced, we needed to *know* that the earliest year was 1950. Instead, we could have written:"
   ]
  },
  {
   "cell_type": "code",
   "execution_count": 141,
   "metadata": {},
   "outputs": [
    {
     "data": {
      "text/html": [
       "<table>\n",
       "<caption>A data.frame: 7 x 6</caption>\n",
       "<thead>\n",
       "\t<tr><th scope=col>name</th><th scope=col>year</th><th scope=col>pieces</th><th scope=col>theme</th><th scope=col>yearsafter</th><th scope=col>peryear</th></tr>\n",
       "\t<tr><th scope=col>&lt;chr&gt;</th><th scope=col>&lt;int&gt;</th><th scope=col>&lt;int&gt;</th><th scope=col>&lt;chr&gt;</th><th scope=col>&lt;dbl&gt;</th><th scope=col>&lt;dbl&gt;</th></tr>\n",
       "</thead>\n",
       "<tbody>\n",
       "\t<tr><td>Individual 2 x 4 Bricks                                </td><td>1950</td><td>10</td><td>Classic</td><td>1</td><td>10</td></tr>\n",
       "\t<tr><td>Individual 2 x 2 Bricks                                </td><td>1950</td><td> 9</td><td>Classic</td><td>1</td><td> 9</td></tr>\n",
       "\t<tr><td>Automatic Binding Bricks Small Brick Set (Lego Mursten)</td><td>1950</td><td>24</td><td>Classic</td><td>1</td><td>24</td></tr>\n",
       "\t<tr><td>Individual 1 x 4 x 2 Window (without glass)            </td><td>1950</td><td> 7</td><td>Classic</td><td>1</td><td> 7</td></tr>\n",
       "\t<tr><td>Individual 1 x 2 x 3 Window (without glass)            </td><td>1950</td><td> 7</td><td>Classic</td><td>1</td><td> 7</td></tr>\n",
       "\t<tr><td>Individual 1 x 2 x 2 Window (without glass)            </td><td>1950</td><td> 7</td><td>Classic</td><td>1</td><td> 7</td></tr>\n",
       "\t<tr><td>Individual 1 x 2 x 4 Door (without glass)              </td><td>1950</td><td> 7</td><td>Classic</td><td>1</td><td> 7</td></tr>\n",
       "</tbody>\n",
       "</table>\n"
      ],
      "text/latex": [
       "A data.frame: 7 x 6\n",
       "\\begin{tabular}{llllll}\n",
       " name & year & pieces & theme & yearsafter & peryear\\\\\n",
       " <chr> & <int> & <int> & <chr> & <dbl> & <dbl>\\\\\n",
       "\\hline\n",
       "\t Individual 2 x 4 Bricks                                 & 1950 & 10 & Classic & 1 & 10\\\\\n",
       "\t Individual 2 x 2 Bricks                                 & 1950 &  9 & Classic & 1 &  9\\\\\n",
       "\t Automatic Binding Bricks Small Brick Set (Lego Mursten) & 1950 & 24 & Classic & 1 & 24\\\\\n",
       "\t Individual 1 x 4 x 2 Window (without glass)             & 1950 &  7 & Classic & 1 &  7\\\\\n",
       "\t Individual 1 x 2 x 3 Window (without glass)             & 1950 &  7 & Classic & 1 &  7\\\\\n",
       "\t Individual 1 x 2 x 2 Window (without glass)             & 1950 &  7 & Classic & 1 &  7\\\\\n",
       "\t Individual 1 x 2 x 4 Door (without glass)               & 1950 &  7 & Classic & 1 &  7\\\\\n",
       "\\end{tabular}\n"
      ],
      "text/markdown": [
       "\n",
       "A data.frame: 7 x 6\n",
       "\n",
       "| name &lt;chr&gt; | year &lt;int&gt; | pieces &lt;int&gt; | theme &lt;chr&gt; | yearsafter &lt;dbl&gt; | peryear &lt;dbl&gt; |\n",
       "|---|---|---|---|---|---|\n",
       "| Individual 2 x 4 Bricks                                 | 1950 | 10 | Classic | 1 | 10 |\n",
       "| Individual 2 x 2 Bricks                                 | 1950 |  9 | Classic | 1 |  9 |\n",
       "| Automatic Binding Bricks Small Brick Set (Lego Mursten) | 1950 | 24 | Classic | 1 | 24 |\n",
       "| Individual 1 x 4 x 2 Window (without glass)             | 1950 |  7 | Classic | 1 |  7 |\n",
       "| Individual 1 x 2 x 3 Window (without glass)             | 1950 |  7 | Classic | 1 |  7 |\n",
       "| Individual 1 x 2 x 2 Window (without glass)             | 1950 |  7 | Classic | 1 |  7 |\n",
       "| Individual 1 x 2 x 4 Door (without glass)               | 1950 |  7 | Classic | 1 |  7 |\n",
       "\n"
      ],
      "text/plain": [
       "  name                                                    year pieces theme  \n",
       "1 Individual 2 x 4 Bricks                                 1950 10     Classic\n",
       "2 Individual 2 x 2 Bricks                                 1950  9     Classic\n",
       "3 Automatic Binding Bricks Small Brick Set (Lego Mursten) 1950 24     Classic\n",
       "4 Individual 1 x 4 x 2 Window (without glass)             1950  7     Classic\n",
       "5 Individual 1 x 2 x 3 Window (without glass)             1950  7     Classic\n",
       "6 Individual 1 x 2 x 2 Window (without glass)             1950  7     Classic\n",
       "7 Individual 1 x 2 x 4 Door (without glass)               1950  7     Classic\n",
       "  yearsafter peryear\n",
       "1 1          10     \n",
       "2 1           9     \n",
       "3 1          24     \n",
       "4 1           7     \n",
       "5 1           7     \n",
       "6 1           7     \n",
       "7 1           7     "
      ]
     },
     "metadata": {},
     "output_type": "display_data"
    }
   ],
   "source": [
    "lego %>% filter(year == min(year))"
   ]
  },
  {
   "cell_type": "markdown",
   "metadata": {},
   "source": [
    "### 3.5. `group_by()`\n",
    "\n",
    "Grouping data does nothing by itself, but instead supports the `summarize()` function by splitting the dataframe into groups, which can each be averaged, counted, or whatever separately. To do so, call the `group_by()` function with the name of a categorical column right before summarizing:"
   ]
  },
  {
   "cell_type": "code",
   "execution_count": 142,
   "metadata": {},
   "outputs": [
    {
     "data": {
      "text/html": [
       "<table>\n",
       "<caption>A tibble: 6 x 3</caption>\n",
       "<thead>\n",
       "\t<tr><th scope=col>year</th><th scope=col>avg_pieces</th><th scope=col>count</th></tr>\n",
       "\t<tr><th scope=col>&lt;int&gt;</th><th scope=col>&lt;dbl&gt;</th><th scope=col>&lt;int&gt;</th></tr>\n",
       "</thead>\n",
       "<tbody>\n",
       "\t<tr><td>1950</td><td>10.14286</td><td> 7</td></tr>\n",
       "\t<tr><td>1953</td><td>16.50000</td><td> 4</td></tr>\n",
       "\t<tr><td>1954</td><td>12.35714</td><td>14</td></tr>\n",
       "\t<tr><td>1955</td><td>36.85714</td><td>28</td></tr>\n",
       "\t<tr><td>1956</td><td>18.50000</td><td>12</td></tr>\n",
       "\t<tr><td>1957</td><td>42.61905</td><td>21</td></tr>\n",
       "</tbody>\n",
       "</table>\n"
      ],
      "text/latex": [
       "A tibble: 6 x 3\n",
       "\\begin{tabular}{lll}\n",
       " year & avg\\_pieces & count\\\\\n",
       " <int> & <dbl> & <int>\\\\\n",
       "\\hline\n",
       "\t 1950 & 10.14286 &  7\\\\\n",
       "\t 1953 & 16.50000 &  4\\\\\n",
       "\t 1954 & 12.35714 & 14\\\\\n",
       "\t 1955 & 36.85714 & 28\\\\\n",
       "\t 1956 & 18.50000 & 12\\\\\n",
       "\t 1957 & 42.61905 & 21\\\\\n",
       "\\end{tabular}\n"
      ],
      "text/markdown": [
       "\n",
       "A tibble: 6 x 3\n",
       "\n",
       "| year &lt;int&gt; | avg_pieces &lt;dbl&gt; | count &lt;int&gt; |\n",
       "|---|---|---|\n",
       "| 1950 | 10.14286 |  7 |\n",
       "| 1953 | 16.50000 |  4 |\n",
       "| 1954 | 12.35714 | 14 |\n",
       "| 1955 | 36.85714 | 28 |\n",
       "| 1956 | 18.50000 | 12 |\n",
       "| 1957 | 42.61905 | 21 |\n",
       "\n"
      ],
      "text/plain": [
       "  year avg_pieces count\n",
       "1 1950 10.14286    7   \n",
       "2 1953 16.50000    4   \n",
       "3 1954 12.35714   14   \n",
       "4 1955 36.85714   28   \n",
       "5 1956 18.50000   12   \n",
       "6 1957 42.61905   21   "
      ]
     },
     "metadata": {},
     "output_type": "display_data"
    }
   ],
   "source": [
    "byyear <- lego %>% group_by(year) %>% summarize(avg_pieces=mean(pieces), count=n())\n",
    "\n",
    "head(byyear)"
   ]
  },
  {
   "cell_type": "markdown",
   "metadata": {},
   "source": [
    "These summaries can then be visualized. We can see the clear trend towards more sets being released each year, with a larger number of pieces in each set."
   ]
  },
  {
   "cell_type": "code",
   "execution_count": 143,
   "metadata": {},
   "outputs": [
    {
     "data": {
      "image/png": "[encoded data removed]",
      "text/plain": [
       "plot without title"
      ]
     },
     "metadata": {
      "image/png": {
       "height": 420,
       "width": 420
      }
     },
     "output_type": "display_data"
    }
   ],
   "source": [
    "ggplot(byyear) +\n",
    "  geom_point(aes(x=year, y=count, size=avg_pieces), color=\"blue\") +\n",
    "  xlab(\"Year\") + ylab(\"Number of LEGO® Sets Released\") +\n",
    "  theme(axis.title=element_text(size=16), axis.text=element_text(size=14))"
   ]
  },
  {
   "cell_type": "markdown",
   "metadata": {},
   "source": [
    "There's a drop-off in 2017, which may have to do with missing data. How would we remove that year in the plot above by using *dplyr* on the dataset itself?\n",
    "\n",
    "We might also ask the question of how many sets each theme has:"
   ]
  },
  {
   "cell_type": "code",
   "execution_count": 148,
   "metadata": {},
   "outputs": [
    {
     "data": {
      "text/html": [
       "<table>\n",
       "<caption>A tibble: 6 x 2</caption>\n",
       "<thead>\n",
       "\t<tr><th scope=col>theme</th><th scope=col>count</th></tr>\n",
       "\t<tr><th scope=col>&lt;chr&gt;</th><th scope=col>&lt;int&gt;</th></tr>\n",
       "</thead>\n",
       "<tbody>\n",
       "\t<tr><td>4 Juniors     </td><td> 17</td></tr>\n",
       "\t<tr><td>9V            </td><td> 59</td></tr>\n",
       "\t<tr><td>Advent        </td><td> 33</td></tr>\n",
       "\t<tr><td>Advent Sub-Set</td><td>625</td></tr>\n",
       "\t<tr><td>Adventurers   </td><td> 83</td></tr>\n",
       "\t<tr><td>Agents        </td><td> 28</td></tr>\n",
       "</tbody>\n",
       "</table>\n"
      ],
      "text/latex": [
       "A tibble: 6 x 2\n",
       "\\begin{tabular}{ll}\n",
       " theme & count\\\\\n",
       " <chr> & <int>\\\\\n",
       "\\hline\n",
       "\t 4 Juniors      &  17\\\\\n",
       "\t 9V             &  59\\\\\n",
       "\t Advent         &  33\\\\\n",
       "\t Advent Sub-Set & 625\\\\\n",
       "\t Adventurers    &  83\\\\\n",
       "\t Agents         &  28\\\\\n",
       "\\end{tabular}\n"
      ],
      "text/markdown": [
       "\n",
       "A tibble: 6 x 2\n",
       "\n",
       "| theme &lt;chr&gt; | count &lt;int&gt; |\n",
       "|---|---|\n",
       "| 4 Juniors      |  17 |\n",
       "| 9V             |  59 |\n",
       "| Advent         |  33 |\n",
       "| Advent Sub-Set | 625 |\n",
       "| Adventurers    |  83 |\n",
       "| Agents         |  28 |\n",
       "\n"
      ],
      "text/plain": [
       "  theme          count\n",
       "1 4 Juniors       17  \n",
       "2 9V              59  \n",
       "3 Advent          33  \n",
       "4 Advent Sub-Set 625  \n",
       "5 Adventurers     83  \n",
       "6 Agents          28  "
      ]
     },
     "metadata": {},
     "output_type": "display_data"
    }
   ],
   "source": [
    "theme_count <- lego %>% group_by(theme) %>% summarize(count=n())\n",
    "\n",
    "head(theme_count)"
   ]
  },
  {
   "cell_type": "markdown",
   "metadata": {},
   "source": [
    "### 3.5. `arrange()`\n",
    "\n",
    "This function is used to sort a dataframe by some column, either from lowest to highest or highest to lowest. This has its uses in data visualization (for ordering a column chart), but it is most useful when combined with `head()` to see the largest or smallest values. For example, let's find the themes that have the most sets associated with them:\n",
    "\n"
   ]
  },
  {
   "cell_type": "code",
   "execution_count": 147,
   "metadata": {},
   "outputs": [
    {
     "data": {
      "text/html": [
       "<table>\n",
       "<caption>A tibble: 6 x 2</caption>\n",
       "<thead>\n",
       "\t<tr><th scope=col>theme</th><th scope=col>count</th></tr>\n",
       "\t<tr><th scope=col>&lt;chr&gt;</th><th scope=col>&lt;int&gt;</th></tr>\n",
       "</thead>\n",
       "<tbody>\n",
       "\t<tr><td>Advent Sub-Set         </td><td>625</td></tr>\n",
       "\t<tr><td>Service Packs          </td><td>549</td></tr>\n",
       "\t<tr><td>Star Wars              </td><td>538</td></tr>\n",
       "\t<tr><td>Collectible Minifigures</td><td>441</td></tr>\n",
       "\t<tr><td>Universal Building Set </td><td>441</td></tr>\n",
       "\t<tr><td>Gear                   </td><td>433</td></tr>\n",
       "</tbody>\n",
       "</table>\n"
      ],
      "text/latex": [
       "A tibble: 6 x 2\n",
       "\\begin{tabular}{ll}\n",
       " theme & count\\\\\n",
       " <chr> & <int>\\\\\n",
       "\\hline\n",
       "\t Advent Sub-Set          & 625\\\\\n",
       "\t Service Packs           & 549\\\\\n",
       "\t Star Wars               & 538\\\\\n",
       "\t Collectible Minifigures & 441\\\\\n",
       "\t Universal Building Set  & 441\\\\\n",
       "\t Gear                    & 433\\\\\n",
       "\\end{tabular}\n"
      ],
      "text/markdown": [
       "\n",
       "A tibble: 6 x 2\n",
       "\n",
       "| theme &lt;chr&gt; | count &lt;int&gt; |\n",
       "|---|---|\n",
       "| Advent Sub-Set          | 625 |\n",
       "| Service Packs           | 549 |\n",
       "| Star Wars               | 538 |\n",
       "| Collectible Minifigures | 441 |\n",
       "| Universal Building Set  | 441 |\n",
       "| Gear                    | 433 |\n",
       "\n"
      ],
      "text/plain": [
       "  theme                   count\n",
       "1 Advent Sub-Set          625  \n",
       "2 Service Packs           549  \n",
       "3 Star Wars               538  \n",
       "4 Collectible Minifigures 441  \n",
       "5 Universal Building Set  441  \n",
       "6 Gear                    433  "
      ]
     },
     "metadata": {},
     "output_type": "display_data"
    }
   ],
   "source": [
    "theme_count %>% arrange(-count) %>% head()"
   ]
  },
  {
   "cell_type": "markdown",
   "metadata": {},
   "source": [
    "### 3.6. `inner_join()`"
   ]
  },
  {
   "cell_type": "markdown",
   "metadata": {},
   "source": [
    "An inner join is a way of combining two dataframes and looking for matches on some particular column. In one of the two dataframes, that column must be a key.\n",
    "\n",
    "For example, I could combine the `lego` dataframe with the `theme_count` dataframe by joining on the theme column, as both dataframes have a column containing information about LEGO® themes and have exact matches. The theme column is a key in `theme_count`, but *is not* in `lego`. In database terminology, it's a *primary key* in `theme_count` but a *foreign key* pointing to a key in another table."
   ]
  },
  {
   "cell_type": "code",
   "execution_count": 153,
   "metadata": {},
   "outputs": [
    {
     "name": "stderr",
     "output_type": "stream",
     "text": [
      "\u001b[1m\u001b[22mJoining, by = \"theme\"\n"
     ]
    },
    {
     "data": {
      "text/html": [
       "<table>\n",
       "<caption>A data.frame: 6 x 7</caption>\n",
       "<thead>\n",
       "\t<tr><th></th><th scope=col>name</th><th scope=col>year</th><th scope=col>pieces</th><th scope=col>theme</th><th scope=col>yearsafter</th><th scope=col>peryear</th><th scope=col>count</th></tr>\n",
       "\t<tr><th></th><th scope=col>&lt;chr&gt;</th><th scope=col>&lt;int&gt;</th><th scope=col>&lt;int&gt;</th><th scope=col>&lt;chr&gt;</th><th scope=col>&lt;dbl&gt;</th><th scope=col>&lt;dbl&gt;</th><th scope=col>&lt;int&gt;</th></tr>\n",
       "</thead>\n",
       "<tbody>\n",
       "\t<tr><th scope=row>1</th><td>Weetabix Castle           </td><td>1970</td><td>471</td><td>Legoland    </td><td>21</td><td>22.42857143</td><td>141</td></tr>\n",
       "\t<tr><th scope=row>2</th><td>Town Mini-Figures         </td><td>1978</td><td> 12</td><td>Classic Town</td><td>29</td><td> 0.41379310</td><td>429</td></tr>\n",
       "\t<tr><th scope=row>3</th><td>Castle 2 for 1 Bonus Offer</td><td>1987</td><td>  2</td><td>Castle      </td><td>38</td><td> 0.05263158</td><td>256</td></tr>\n",
       "\t<tr><th scope=row>4</th><td>Space Mini-Figures        </td><td>1979</td><td> 12</td><td>Space       </td><td>30</td><td> 0.40000000</td><td>332</td></tr>\n",
       "\t<tr><th scope=row>5</th><td>Space Mini-Figures        </td><td>1979</td><td> 12</td><td>Space       </td><td>30</td><td> 0.40000000</td><td>332</td></tr>\n",
       "\t<tr><th scope=row>6</th><td>Space Mini-Figures        </td><td>1979</td><td> 12</td><td>Space       </td><td>30</td><td> 0.40000000</td><td>332</td></tr>\n",
       "</tbody>\n",
       "</table>\n"
      ],
      "text/latex": [
       "A data.frame: 6 x 7\n",
       "\\begin{tabular}{r|lllllll}\n",
       "  & name & year & pieces & theme & yearsafter & peryear & count\\\\\n",
       "  & <chr> & <int> & <int> & <chr> & <dbl> & <dbl> & <int>\\\\\n",
       "\\hline\n",
       "\t1 & Weetabix Castle            & 1970 & 471 & Legoland     & 21 & 22.42857143 & 141\\\\\n",
       "\t2 & Town Mini-Figures          & 1978 &  12 & Classic Town & 29 &  0.41379310 & 429\\\\\n",
       "\t3 & Castle 2 for 1 Bonus Offer & 1987 &   2 & Castle       & 38 &  0.05263158 & 256\\\\\n",
       "\t4 & Space Mini-Figures         & 1979 &  12 & Space        & 30 &  0.40000000 & 332\\\\\n",
       "\t5 & Space Mini-Figures         & 1979 &  12 & Space        & 30 &  0.40000000 & 332\\\\\n",
       "\t6 & Space Mini-Figures         & 1979 &  12 & Space        & 30 &  0.40000000 & 332\\\\\n",
       "\\end{tabular}\n"
      ],
      "text/markdown": [
       "\n",
       "A data.frame: 6 x 7\n",
       "\n",
       "| <!--/--> | name &lt;chr&gt; | year &lt;int&gt; | pieces &lt;int&gt; | theme &lt;chr&gt; | yearsafter &lt;dbl&gt; | peryear &lt;dbl&gt; | count &lt;int&gt; |\n",
       "|---|---|---|---|---|---|---|---|\n",
       "| 1 | Weetabix Castle            | 1970 | 471 | Legoland     | 21 | 22.42857143 | 141 |\n",
       "| 2 | Town Mini-Figures          | 1978 |  12 | Classic Town | 29 |  0.41379310 | 429 |\n",
       "| 3 | Castle 2 for 1 Bonus Offer | 1987 |   2 | Castle       | 38 |  0.05263158 | 256 |\n",
       "| 4 | Space Mini-Figures         | 1979 |  12 | Space        | 30 |  0.40000000 | 332 |\n",
       "| 5 | Space Mini-Figures         | 1979 |  12 | Space        | 30 |  0.40000000 | 332 |\n",
       "| 6 | Space Mini-Figures         | 1979 |  12 | Space        | 30 |  0.40000000 | 332 |\n",
       "\n"
      ],
      "text/plain": [
       "  name                       year pieces theme        yearsafter peryear    \n",
       "1 Weetabix Castle            1970 471    Legoland     21         22.42857143\n",
       "2 Town Mini-Figures          1978  12    Classic Town 29          0.41379310\n",
       "3 Castle 2 for 1 Bonus Offer 1987   2    Castle       38          0.05263158\n",
       "4 Space Mini-Figures         1979  12    Space        30          0.40000000\n",
       "5 Space Mini-Figures         1979  12    Space        30          0.40000000\n",
       "6 Space Mini-Figures         1979  12    Space        30          0.40000000\n",
       "  count\n",
       "1 141  \n",
       "2 429  \n",
       "3 256  \n",
       "4 332  \n",
       "5 332  \n",
       "6 332  "
      ]
     },
     "metadata": {},
     "output_type": "display_data"
    }
   ],
   "source": [
    "lego %>% inner_join(theme_count) %>% head()"
   ]
  },
  {
   "cell_type": "markdown",
   "metadata": {},
   "source": [
    "By default, `inner_join()` assumes you want to join on columns with the same name (there's a note above showing its assumption), but we could've added a `by=` argument stating explicitly which columns. The call would've been `inner_join(theme_count, by=c(\"theme\" = \"theme\"))`. Note that the column names are in quotation marks here, which is inconsistent with other parts of dplyr."
   ]
  },
  {
   "cell_type": "markdown",
   "metadata": {},
   "source": [
    "### 4. Re-Creating the Dataset\n",
    "In the previous notes, I supplied a simpler dataset about LEGO® sets, including only themes which had a large number of sets. We've got the pieces to do that now. First, I'm going to reset the `lego` dataframe by throwing away the new columns."
   ]
  },
  {
   "cell_type": "code",
   "execution_count": 156,
   "metadata": {},
   "outputs": [],
   "source": [
    "lego <- lego %>% select(-yearsafter, -peryear)"
   ]
  },
  {
   "cell_type": "markdown",
   "metadata": {},
   "source": [
    "Now, we'll look at the list of themes and only keep the biggest ones. The cut-off was chosen by tweaking little by little until there were only a few total themes."
   ]
  },
  {
   "cell_type": "code",
   "execution_count": 168,
   "metadata": {},
   "outputs": [
    {
     "data": {
      "text/html": [
       "<table>\n",
       "<caption>A tibble: 13 x 2</caption>\n",
       "<thead>\n",
       "\t<tr><th scope=col>theme</th><th scope=col>count</th></tr>\n",
       "\t<tr><th scope=col>&lt;chr&gt;</th><th scope=col>&lt;int&gt;</th></tr>\n",
       "</thead>\n",
       "<tbody>\n",
       "\t<tr><td>Advent Sub-Set         </td><td>625</td></tr>\n",
       "\t<tr><td>Bionicle               </td><td>417</td></tr>\n",
       "\t<tr><td>City                   </td><td>354</td></tr>\n",
       "\t<tr><td>Classic                </td><td>330</td></tr>\n",
       "\t<tr><td>Classic Town           </td><td>429</td></tr>\n",
       "\t<tr><td>Collectible Minifigures</td><td>441</td></tr>\n",
       "\t<tr><td>Creator                </td><td>335</td></tr>\n",
       "\t<tr><td>Gear                   </td><td>433</td></tr>\n",
       "\t<tr><td>Service Packs          </td><td>549</td></tr>\n",
       "\t<tr><td>Space                  </td><td>332</td></tr>\n",
       "\t<tr><td>Star Wars              </td><td>538</td></tr>\n",
       "\t<tr><td>Technic                </td><td>350</td></tr>\n",
       "\t<tr><td>Universal Building Set </td><td>441</td></tr>\n",
       "</tbody>\n",
       "</table>\n"
      ],
      "text/latex": [
       "A tibble: 13 x 2\n",
       "\\begin{tabular}{ll}\n",
       " theme & count\\\\\n",
       " <chr> & <int>\\\\\n",
       "\\hline\n",
       "\t Advent Sub-Set          & 625\\\\\n",
       "\t Bionicle                & 417\\\\\n",
       "\t City                    & 354\\\\\n",
       "\t Classic                 & 330\\\\\n",
       "\t Classic Town            & 429\\\\\n",
       "\t Collectible Minifigures & 441\\\\\n",
       "\t Creator                 & 335\\\\\n",
       "\t Gear                    & 433\\\\\n",
       "\t Service Packs           & 549\\\\\n",
       "\t Space                   & 332\\\\\n",
       "\t Star Wars               & 538\\\\\n",
       "\t Technic                 & 350\\\\\n",
       "\t Universal Building Set  & 441\\\\\n",
       "\\end{tabular}\n"
      ],
      "text/markdown": [
       "\n",
       "A tibble: 13 x 2\n",
       "\n",
       "| theme &lt;chr&gt; | count &lt;int&gt; |\n",
       "|---|---|\n",
       "| Advent Sub-Set          | 625 |\n",
       "| Bionicle                | 417 |\n",
       "| City                    | 354 |\n",
       "| Classic                 | 330 |\n",
       "| Classic Town            | 429 |\n",
       "| Collectible Minifigures | 441 |\n",
       "| Creator                 | 335 |\n",
       "| Gear                    | 433 |\n",
       "| Service Packs           | 549 |\n",
       "| Space                   | 332 |\n",
       "| Star Wars               | 538 |\n",
       "| Technic                 | 350 |\n",
       "| Universal Building Set  | 441 |\n",
       "\n"
      ],
      "text/plain": [
       "   theme                   count\n",
       "1  Advent Sub-Set          625  \n",
       "2  Bionicle                417  \n",
       "3  City                    354  \n",
       "4  Classic                 330  \n",
       "5  Classic Town            429  \n",
       "6  Collectible Minifigures 441  \n",
       "7  Creator                 335  \n",
       "8  Gear                    433  \n",
       "9  Service Packs           549  \n",
       "10 Space                   332  \n",
       "11 Star Wars               538  \n",
       "12 Technic                 350  \n",
       "13 Universal Building Set  441  "
      ]
     },
     "metadata": {},
     "output_type": "display_data"
    }
   ],
   "source": [
    "theme_count %>% filter(count >= 300)"
   ]
  },
  {
   "cell_type": "markdown",
   "metadata": {},
   "source": [
    "Of these, there are a few that aren't interesting: \"Advent Sub-Set\" means . Similarly, I'd like to remove \"Collectible Minifigures\", \"Gear\", and \"Service Packs\""
   ]
  },
  {
   "cell_type": "code",
   "execution_count": 172,
   "metadata": {},
   "outputs": [
    {
     "data": {
      "text/html": [
       "<table>\n",
       "<caption>A tibble: 9 x 2</caption>\n",
       "<thead>\n",
       "\t<tr><th scope=col>theme</th><th scope=col>count</th></tr>\n",
       "\t<tr><th scope=col>&lt;chr&gt;</th><th scope=col>&lt;int&gt;</th></tr>\n",
       "</thead>\n",
       "<tbody>\n",
       "\t<tr><td>Bionicle              </td><td>417</td></tr>\n",
       "\t<tr><td>City                  </td><td>354</td></tr>\n",
       "\t<tr><td>Classic               </td><td>330</td></tr>\n",
       "\t<tr><td>Classic Town          </td><td>429</td></tr>\n",
       "\t<tr><td>Creator               </td><td>335</td></tr>\n",
       "\t<tr><td>Space                 </td><td>332</td></tr>\n",
       "\t<tr><td>Star Wars             </td><td>538</td></tr>\n",
       "\t<tr><td>Technic               </td><td>350</td></tr>\n",
       "\t<tr><td>Universal Building Set</td><td>441</td></tr>\n",
       "</tbody>\n",
       "</table>\n"
      ],
      "text/latex": [
       "A tibble: 9 x 2\n",
       "\\begin{tabular}{ll}\n",
       " theme & count\\\\\n",
       " <chr> & <int>\\\\\n",
       "\\hline\n",
       "\t Bionicle               & 417\\\\\n",
       "\t City                   & 354\\\\\n",
       "\t Classic                & 330\\\\\n",
       "\t Classic Town           & 429\\\\\n",
       "\t Creator                & 335\\\\\n",
       "\t Space                  & 332\\\\\n",
       "\t Star Wars              & 538\\\\\n",
       "\t Technic                & 350\\\\\n",
       "\t Universal Building Set & 441\\\\\n",
       "\\end{tabular}\n"
      ],
      "text/markdown": [
       "\n",
       "A tibble: 9 x 2\n",
       "\n",
       "| theme &lt;chr&gt; | count &lt;int&gt; |\n",
       "|---|---|\n",
       "| Bionicle               | 417 |\n",
       "| City                   | 354 |\n",
       "| Classic                | 330 |\n",
       "| Classic Town           | 429 |\n",
       "| Creator                | 335 |\n",
       "| Space                  | 332 |\n",
       "| Star Wars              | 538 |\n",
       "| Technic                | 350 |\n",
       "| Universal Building Set | 441 |\n",
       "\n"
      ],
      "text/plain": [
       "  theme                  count\n",
       "1 Bionicle               417  \n",
       "2 City                   354  \n",
       "3 Classic                330  \n",
       "4 Classic Town           429  \n",
       "5 Creator                335  \n",
       "6 Space                  332  \n",
       "7 Star Wars              538  \n",
       "8 Technic                350  \n",
       "9 Universal Building Set 441  "
      ]
     },
     "metadata": {},
     "output_type": "display_data"
    }
   ],
   "source": [
    "big_themes <- theme_count %>% filter(count >= 300) %>%\n",
    "  filter(theme != \"Advent Sub-Set\") %>% filter(theme != \"Gear\") %>%\n",
    "  filter(theme != \"Service Packs\") %>% filter(theme != \"Collectible Minifigures\")\n",
    "\n",
    "big_themes"
   ]
  },
  {
   "cell_type": "markdown",
   "metadata": {},
   "source": [
    "*Now* if we `inner_join()` to the original `lego` dataframe, any themes outside of this list will be dropped. Why? Because `inner_join()` looks for matches between the two dataframes, and there will be no matches to (for example) the sets listed in `lego` with the \"Gear\" theme."
   ]
  },
  {
   "cell_type": "code",
   "execution_count": 174,
   "metadata": {},
   "outputs": [
    {
     "name": "stderr",
     "output_type": "stream",
     "text": [
      "\u001b[1m\u001b[22mJoining, by = \"theme\"\n"
     ]
    },
    {
     "data": {
      "text/html": [
       "<table>\n",
       "<caption>A data.frame: 6 x 4</caption>\n",
       "<thead>\n",
       "\t<tr><th></th><th scope=col>name</th><th scope=col>year</th><th scope=col>pieces</th><th scope=col>theme</th></tr>\n",
       "\t<tr><th></th><th scope=col>&lt;chr&gt;</th><th scope=col>&lt;int&gt;</th><th scope=col>&lt;int&gt;</th><th scope=col>&lt;chr&gt;</th></tr>\n",
       "</thead>\n",
       "<tbody>\n",
       "\t<tr><th scope=row>1</th><td>Town Mini-Figures              </td><td>1978</td><td>12</td><td>Classic Town</td></tr>\n",
       "\t<tr><th scope=row>2</th><td>Space Mini-Figures             </td><td>1979</td><td>12</td><td>Space       </td></tr>\n",
       "\t<tr><th scope=row>3</th><td>Space Mini-Figures             </td><td>1979</td><td>12</td><td>Space       </td></tr>\n",
       "\t<tr><th scope=row>4</th><td>Space Mini-Figures             </td><td>1979</td><td>12</td><td>Space       </td></tr>\n",
       "\t<tr><th scope=row>5</th><td>Space Mini-Figures             </td><td>1979</td><td>18</td><td>Space       </td></tr>\n",
       "\t<tr><th scope=row>6</th><td>Basic Building Set in Cardboard</td><td>1965</td><td>35</td><td>Classic     </td></tr>\n",
       "</tbody>\n",
       "</table>\n"
      ],
      "text/latex": [
       "A data.frame: 6 x 4\n",
       "\\begin{tabular}{r|llll}\n",
       "  & name & year & pieces & theme\\\\\n",
       "  & <chr> & <int> & <int> & <chr>\\\\\n",
       "\\hline\n",
       "\t1 & Town Mini-Figures               & 1978 & 12 & Classic Town\\\\\n",
       "\t2 & Space Mini-Figures              & 1979 & 12 & Space       \\\\\n",
       "\t3 & Space Mini-Figures              & 1979 & 12 & Space       \\\\\n",
       "\t4 & Space Mini-Figures              & 1979 & 12 & Space       \\\\\n",
       "\t5 & Space Mini-Figures              & 1979 & 18 & Space       \\\\\n",
       "\t6 & Basic Building Set in Cardboard & 1965 & 35 & Classic     \\\\\n",
       "\\end{tabular}\n"
      ],
      "text/markdown": [
       "\n",
       "A data.frame: 6 x 4\n",
       "\n",
       "| <!--/--> | name &lt;chr&gt; | year &lt;int&gt; | pieces &lt;int&gt; | theme &lt;chr&gt; |\n",
       "|---|---|---|---|---|\n",
       "| 1 | Town Mini-Figures               | 1978 | 12 | Classic Town |\n",
       "| 2 | Space Mini-Figures              | 1979 | 12 | Space        |\n",
       "| 3 | Space Mini-Figures              | 1979 | 12 | Space        |\n",
       "| 4 | Space Mini-Figures              | 1979 | 12 | Space        |\n",
       "| 5 | Space Mini-Figures              | 1979 | 18 | Space        |\n",
       "| 6 | Basic Building Set in Cardboard | 1965 | 35 | Classic      |\n",
       "\n"
      ],
      "text/plain": [
       "  name                            year pieces theme       \n",
       "1 Town Mini-Figures               1978 12     Classic Town\n",
       "2 Space Mini-Figures              1979 12     Space       \n",
       "3 Space Mini-Figures              1979 12     Space       \n",
       "4 Space Mini-Figures              1979 12     Space       \n",
       "5 Space Mini-Figures              1979 18     Space       \n",
       "6 Basic Building Set in Cardboard 1965 35     Classic     "
      ]
     },
     "metadata": {},
     "output_type": "display_data"
    }
   ],
   "source": [
    "lego_reduced <- lego %>% inner_join(big_themes %>% select(theme))\n",
    "\n",
    "head(lego_reduced)"
   ]
  },
  {
   "cell_type": "markdown",
   "metadata": {},
   "source": [
    "Just to show that this has cut the dataset down substantially, you can check how many rows are in the original and reduced dataset:"
   ]
  },
  {
   "cell_type": "code",
   "execution_count": 177,
   "metadata": {},
   "outputs": [
    {
     "data": {
      "text/html": [
       "11673"
      ],
      "text/latex": [
       "11673"
      ],
      "text/markdown": [
       "11673"
      ],
      "text/plain": [
       "[1] 11673"
      ]
     },
     "metadata": {},
     "output_type": "display_data"
    }
   ],
   "source": [
    "nrow(lego)"
   ]
  },
  {
   "cell_type": "code",
   "execution_count": 176,
   "metadata": {},
   "outputs": [
    {
     "data": {
      "text/html": [
       "3526"
      ],
      "text/latex": [
       "3526"
      ],
      "text/markdown": [
       "3526"
      ],
      "text/plain": [
       "[1] 3526"
      ]
     },
     "metadata": {},
     "output_type": "display_data"
    }
   ],
   "source": [
    "nrow(lego_reduced)"
   ]
  },
  {
   "cell_type": "markdown",
   "metadata": {},
   "source": [
    "And you're ready for some new visualizations:"
   ]
  },
  {
   "cell_type": "code",
   "execution_count": 179,
   "metadata": {},
   "outputs": [],
   "source": [
    "theme_avg <- lego_reduced %>% group_by(theme) %>% summarize(avg_pieces = mean(pieces))"
   ]
  },
  {
   "cell_type": "code",
   "execution_count": 190,
   "metadata": {},
   "outputs": [
    {
     "data": {
      "image/png": "[encoded data removed]",
      "text/plain": [
       "plot without title"
      ]
     },
     "metadata": {
      "image/png": {
       "height": 420,
       "width": 420
      }
     },
     "output_type": "display_data"
    }
   ],
   "source": [
    "ggplot(theme_avg) + \n",
    "  geom_bar(aes(x=reorder(theme, avg_pieces), y=avg_pieces, fill=theme), stat=\"identity\") +\n",
    "  coord_flip() +\n",
    "  xlab(\"Average Number of Pieces\") + ylab(\"Theme\") +\n",
    "  scale_fill_brewer(palette=\"Set1\") +\n",
    "  theme(legend.position=\"none\")"
   ]
  },
  {
   "cell_type": "markdown",
   "metadata": {},
   "source": [
    "### 5. Pandas Equivalents\n",
    "\n",
    "If you've studied Python previously, you may be familiar with some of these functions, although they are implemented differently. I honestly find Panda's method of doing data manipulation to be much more confusing, as it mixes functions like `len()`, methods like `.group_by()`, and indexing like `.loc[]`\n",
    "\n",
    "| Task        | *dplyr* | Pandas | SQL |\n",
    "| ---------------- | ------------------- | ----------------------- | -- |\n",
    "| selecting  | `select()`   | `[[\"col1\",\"col2\"]]`             | SELECT|\n",
    "| filtering  | `filter()`   | `.loc[]` | WHERE |\n",
    "| rename     | `rename()`   | `.rename()` | AS |\n",
    "| new column | `mutate()`   | just assign it | |\n",
    "| grouping   | `group_by()` | `.group_by()` | GROUP BY |\n",
    "| statistics | `summarize()` | various methods | various functions |\n",
    "| sort       | `arrange()`  | `.sort_values()` | ORDER BY |\n",
    "| inner join | `inner_join()` | `join()` | INNER JOIN |"
   ]
  },
  {
   "cell_type": "markdown",
   "metadata": {},
   "source": [
    "___\n",
    "##### References.\n",
    "\n",
    "* [Introduction to dplyr](https://cran.r-project.org/web/packages/dplyr/vignettes/dplyr.html)"
   ]
  }
 ],
 "metadata": {
  "kernelspec": {
   "display_name": "R 4.0.3",
   "language": "R",
   "name": "ir"
  },
  "language_info": {
   "codemirror_mode": "r",
   "file_extension": ".r",
   "mimetype": "text/x-r-source",
   "name": "R",
   "pygments_lexer": "r",
   "version": "4.0.3"
  }
 },
 "nbformat": 4,
 "nbformat_minor": 4
}
